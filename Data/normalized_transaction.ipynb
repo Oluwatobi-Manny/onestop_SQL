{
 "cells": [
  {
   "cell_type": "code",
   "execution_count": null,
   "metadata": {},
   "outputs": [],
   "source": [
    "# Library\n",
    "import requests\n",
    "\n",
    "# Google Drive file ID\n",
    "file_id = '1jqceATnc44JpI-URBs8jICFtEADLSSOM'\n",
    "# Construct the direct download URL\n",
    "url = f'https://drive.google.com/uc?export=download&id={file_id}'\n",
    "\n",
    "# Send a GET request to the URL\n",
    "response = requests.get(url)\n",
    "\n",
    "# Save the content to a file\n",
    "with open('norm_trans.csv', 'wb') as file:\n",
    "    file.write(response.content)\n",
    "\n",
    "print(\"CSV file downloaded successfully.\")"
   ]
  }
 ],
 "metadata": {
  "kernelspec": {
   "display_name": "Python 3",
   "language": "python",
   "name": "python3"
  },
  "language_info": {
   "codemirror_mode": {
    "name": "ipython",
    "version": 3
   },
   "file_extension": ".py",
   "mimetype": "text/x-python",
   "name": "python",
   "nbconvert_exporter": "python",
   "pygments_lexer": "ipython3",
   "version": "3.12.4"
  }
 },
 "nbformat": 4,
 "nbformat_minor": 2
}
