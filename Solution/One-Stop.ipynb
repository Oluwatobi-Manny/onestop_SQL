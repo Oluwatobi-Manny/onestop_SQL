{
 "cells": [
  {
   "cell_type": "markdown",
   "id": "1151abba-05dd-4317-aa75-4f2ee5843336",
   "metadata": {},
   "source": [
    "# __Migrating One-Stop Superstore CSV Data to SQL with Python__"
   ]
  },
  {
   "cell_type": "markdown",
   "id": "26ac5557-0327-44b5-bbfe-ea4223242e6c",
   "metadata": {},
   "source": [
    "<div style=\"text-align: center;\">  \n",
    "   <img src=\"https://media.cnn.com/api/v1/images/stellar/prod/gettyimages-1574692455.jpg?c=16x9&q=h_653,w_1160,c_fill/f_webp\" alt=\"Superstore\" style=\"width: 600px; height: 400px;\" title=\"A superstore\" />  \n",
    "</div>"
   ]
  },
  {
   "cell_type": "markdown",
   "id": "71a74fd7-882f-4d7c-8032-afcac11e87b3",
   "metadata": {},
   "source": [
    "<span style=\"font-size: 20px;\"> __Problem Statement__ </span>\n",
    "\n",
    "<span style=\"font-size: 18px;\">One Stop Superstore has a large amount of data stored in XLSX files. This format is inefficient for complex queries and data analysis. The goal is to migrate this data into a SQL database for improved performance and data management capabilities. </span>\n",
    "\n",
    "<span style=\"font-size: 20px;\">__Solution__ </span>\n",
    "\n",
    "<span style=\"font-size: 18px;\">Utilize Python's powerful data manipulation and database interaction libraries to: </span>\n",
    "\n",
    "<span style=\"font-size: 18px;\">\n",
    "    \n",
    "1. **Import CSV Data:**\n",
    "   - Read the CSV files using the `csv` or `pandas` library.\n",
    "   - Handle potential inconsistencies in data formats (e.g., missing values, incorrect data types).\n",
    "\n",
    "2. **Data Cleaning:**\n",
    "   - Identify and remove duplicate records.\n",
    "   - Correct inconsistencies in data values (e.g., typos, incorrect date formats).\n",
    "   - Handle missing values by imputation or deletion.\n",
    "   - Normalize data to ensure consistency (e.g., convert all date formats to a standard).\n",
    "\n",
    "3. **Create SQL Database:**\n",
    "   - Connect to a SQL Server.\n",
    "   - Create necessary tables with appropriate data types and constraints based on the CSV data structure.\n",
    "\n",
    "4. **Insert Data into SQL:**\n",
    "   - Iterate over the cleaned CSV data and insert each row into the corresponding SQL table.\n",
    "   - Use parameterized queries to prevent SQL injection vulnerabilities.\n",
    "\n",
    "5. **Data Validation:**\n",
    "   - Verify the integrity of the migrated data by running SQL queries to check for consistency and accuracy.\n",
    "</span>"
   ]
  },
  {
   "cell_type": "markdown",
   "id": "9403c1a3-068f-4d74-84f6-ec817e59e8fa",
   "metadata": {},
   "source": [
    "## Libraries and Data"
   ]
  },
  {
   "cell_type": "code",
   "execution_count": 1,
   "id": "32a3095a-06b5-40c4-a3f9-04c7df7d2d67",
   "metadata": {},
   "outputs": [],
   "source": [
    "import pandas as pd\n",
    "import numpy as np\n",
    "import matplotlib.pyplot as plt\n",
    "from scipy import stats\n",
    "import seaborn as sns"
   ]
  },
  {
   "cell_type": "code",
   "execution_count": 2,
   "id": "b81c979d-a7f5-4a89-a13b-c46d78480985",
   "metadata": {},
   "outputs": [],
   "source": [
    "def get_excel_sheet_names(file_path):\n",
    "    \"\"\"\n",
    "    Returns a list of sheet names in an Excel file.\n",
    "\n",
    "    Parameters:\n",
    "        file_path (str): The path to the Excel file.\n",
    "\n",
    "    Returns:\n",
    "        list: A list of sheet names in the Excel file.\n",
    "    \"\"\"\n",
    "\n",
    "    # Read the Excel file using pandas\n",
    "    excel_file = pd.ExcelFile(file_path)\n",
    "\n",
    "    # Get the sheet names and remove unprintable characters\n",
    "    sheet_names = excel_file.sheet_names\n",
    "\n",
    "    return sheet_names"
   ]
  },
  {
   "cell_type": "code",
   "execution_count": 3,
   "id": "6af9656f-3599-4b60-8cbf-994be2fa0669",
   "metadata": {},
   "outputs": [
    {
     "name": "stdout",
     "output_type": "stream",
     "text": [
      "['Customer', 'Store', 'Product', 'Product Subcategory', 'Product Category', 'Order', 'Order Item']\n"
     ]
    }
   ],
   "source": [
    "file_path = 'norm_trans.xlsx'\n",
    "sheet_names = get_excel_sheet_names(file_path)  \n",
    "print(sheet_names)"
   ]
  },
  {
   "cell_type": "code",
   "execution_count": 161,
   "id": "775a23a4-6a36-4dd3-97ce-af500512c7b5",
   "metadata": {},
   "outputs": [],
   "source": [
    "# Read all sheets into separate DataFrames with custom names\n",
    "dataframes = {}\n",
    "for sheet_name in sheet_names:\n",
    "    df = pd.read_excel(file_path, sheet_name=sheet_name)\n",
    "    dataframes[sheet_name] = df\n",
    "\n",
    "# Access DataFrames separately\n",
    "customer_df = dataframes[\"Customer\"]\n",
    "store_df = dataframes[\"Store\"]\n",
    "product_df = dataframes[\"Product\"]\n",
    "product_subcategory_df = dataframes[\"Product Subcategory\"]\n",
    "product_category_df = dataframes[\"Product Category\"]\n",
    "order_df = dataframes[\"Order\"]\n",
    "order_item_df = dataframes[\"Order Item\"]"
   ]
  },
  {
   "cell_type": "markdown",
   "id": "500c4477-3f46-471a-9161-ec131a1aface",
   "metadata": {},
   "source": [
    "## EDA and Cleaning"
   ]
  },
  {
   "cell_type": "code",
   "execution_count": 162,
   "id": "7951826b-75a3-4a6b-b311-02eec2984e06",
   "metadata": {},
   "outputs": [],
   "source": [
    "# customer_df"
   ]
  },
  {
   "cell_type": "code",
   "execution_count": 163,
   "id": "d04ad272-d9f0-4ddd-bc5e-0800cbb9f4b0",
   "metadata": {},
   "outputs": [
    {
     "data": {
      "text/html": [
       "<div>\n",
       "<style scoped>\n",
       "    .dataframe tbody tr th:only-of-type {\n",
       "        vertical-align: middle;\n",
       "    }\n",
       "\n",
       "    .dataframe tbody tr th {\n",
       "        vertical-align: top;\n",
       "    }\n",
       "\n",
       "    .dataframe thead th {\n",
       "        text-align: right;\n",
       "    }\n",
       "</style>\n",
       "<table border=\"1\" class=\"dataframe\">\n",
       "  <thead>\n",
       "    <tr style=\"text-align: right;\">\n",
       "      <th></th>\n",
       "      <th>CustomerID</th>\n",
       "      <th>CustomerGender</th>\n",
       "      <th>CustomerName</th>\n",
       "      <th>CustomerCity</th>\n",
       "      <th>CustomerStateCode</th>\n",
       "      <th>CustomerState</th>\n",
       "      <th>CustomerZip</th>\n",
       "      <th>CustomerCountry</th>\n",
       "      <th>CustomerContinent</th>\n",
       "      <th>CustomerDOB</th>\n",
       "    </tr>\n",
       "  </thead>\n",
       "  <tbody>\n",
       "    <tr>\n",
       "      <th>0</th>\n",
       "      <td>265598</td>\n",
       "      <td>Male</td>\n",
       "      <td>Tyler Vaught</td>\n",
       "      <td>London</td>\n",
       "      <td>ON</td>\n",
       "      <td>Ontario</td>\n",
       "      <td>N5W 5K6</td>\n",
       "      <td>Canada</td>\n",
       "      <td>North America</td>\n",
       "      <td>1971-03-23</td>\n",
       "    </tr>\n",
       "    <tr>\n",
       "      <th>1</th>\n",
       "      <td>1269051</td>\n",
       "      <td>Male</td>\n",
       "      <td>Frank Upchurch</td>\n",
       "      <td>Auberry</td>\n",
       "      <td>CA</td>\n",
       "      <td>California</td>\n",
       "      <td>93602</td>\n",
       "      <td>United States</td>\n",
       "      <td>North America</td>\n",
       "      <td>1995-11-20</td>\n",
       "    </tr>\n",
       "    <tr>\n",
       "      <th>2</th>\n",
       "      <td>266019</td>\n",
       "      <td>Female</td>\n",
       "      <td>Joan Roche</td>\n",
       "      <td>Red Deer</td>\n",
       "      <td>AB</td>\n",
       "      <td>Alberta</td>\n",
       "      <td>T4N 2A6</td>\n",
       "      <td>Canada</td>\n",
       "      <td>North America</td>\n",
       "      <td>1962-08-24</td>\n",
       "    </tr>\n",
       "    <tr>\n",
       "      <th>3</th>\n",
       "      <td>1107461</td>\n",
       "      <td>Male</td>\n",
       "      <td>Sam Nelson</td>\n",
       "      <td>BURSCOUGH BRIDGE</td>\n",
       "      <td>West Lancashire</td>\n",
       "      <td>West Lancashire</td>\n",
       "      <td>L40 8UX</td>\n",
       "      <td>United Kingdom</td>\n",
       "      <td>Europe</td>\n",
       "      <td>1979-11-28</td>\n",
       "    </tr>\n",
       "    <tr>\n",
       "      <th>4</th>\n",
       "      <td>844003</td>\n",
       "      <td>Male</td>\n",
       "      <td>Ouassim Heuver</td>\n",
       "      <td>Leeuwarden</td>\n",
       "      <td>FR</td>\n",
       "      <td>Friesland</td>\n",
       "      <td>8916 CD</td>\n",
       "      <td>Netherlands</td>\n",
       "      <td>Europe</td>\n",
       "      <td>1995-06-22</td>\n",
       "    </tr>\n",
       "  </tbody>\n",
       "</table>\n",
       "</div>"
      ],
      "text/plain": [
       "   CustomerID CustomerGender    CustomerName      CustomerCity  \\\n",
       "0      265598           Male    Tyler Vaught            London   \n",
       "1     1269051           Male  Frank Upchurch           Auberry   \n",
       "2      266019         Female      Joan Roche          Red Deer   \n",
       "3     1107461           Male      Sam Nelson  BURSCOUGH BRIDGE   \n",
       "4      844003           Male  Ouassim Heuver        Leeuwarden   \n",
       "\n",
       "  CustomerStateCode    CustomerState CustomerZip CustomerCountry  \\\n",
       "0                ON          Ontario     N5W 5K6          Canada   \n",
       "1                CA       California       93602   United States   \n",
       "2                AB          Alberta     T4N 2A6          Canada   \n",
       "3   West Lancashire  West Lancashire     L40 8UX  United Kingdom   \n",
       "4                FR        Friesland     8916 CD     Netherlands   \n",
       "\n",
       "  CustomerContinent CustomerDOB  \n",
       "0     North America  1971-03-23  \n",
       "1     North America  1995-11-20  \n",
       "2     North America  1962-08-24  \n",
       "3            Europe  1979-11-28  \n",
       "4            Europe  1995-06-22  "
      ]
     },
     "execution_count": 163,
     "metadata": {},
     "output_type": "execute_result"
    }
   ],
   "source": [
    "customer_df.head()"
   ]
  },
  {
   "cell_type": "code",
   "execution_count": 164,
   "id": "e2c1a4fd-08a3-471c-9632-edd49d724e94",
   "metadata": {},
   "outputs": [
    {
     "data": {
      "text/plain": [
       "CustomerID                    int64\n",
       "CustomerGender               object\n",
       "CustomerName                 object\n",
       "CustomerCity                 object\n",
       "CustomerStateCode            object\n",
       "CustomerState                object\n",
       "CustomerZip                  object\n",
       "CustomerCountry              object\n",
       "CustomerContinent            object\n",
       "CustomerDOB          datetime64[ns]\n",
       "dtype: object"
      ]
     },
     "execution_count": 164,
     "metadata": {},
     "output_type": "execute_result"
    }
   ],
   "source": [
    "customer_df.dtypes"
   ]
  },
  {
   "cell_type": "code",
   "execution_count": 165,
   "id": "5cf05b71-2e66-419b-89e2-4afc6bf845fd",
   "metadata": {},
   "outputs": [
    {
     "name": "stdout",
     "output_type": "stream",
     "text": [
      "The number of rows are: 11887\n",
      "The number of columns are: 10\n"
     ]
    }
   ],
   "source": [
    "print (\"The number of rows are:\", customer_df.shape[0])\n",
    "print (\"The number of columns are:\", customer_df.shape[1])"
   ]
  },
  {
   "cell_type": "code",
   "execution_count": 166,
   "id": "2c107ace-2766-478c-9fd8-8ebe56b3cb02",
   "metadata": {},
   "outputs": [
    {
     "name": "stdout",
     "output_type": "stream",
     "text": [
      "<class 'pandas.core.frame.DataFrame'>\n",
      "RangeIndex: 11887 entries, 0 to 11886\n",
      "Data columns (total 10 columns):\n",
      " #   Column             Non-Null Count  Dtype         \n",
      "---  ------             --------------  -----         \n",
      " 0   CustomerID         11887 non-null  int64         \n",
      " 1   CustomerGender     11887 non-null  object        \n",
      " 2   CustomerName       11887 non-null  object        \n",
      " 3   CustomerCity       11887 non-null  object        \n",
      " 4   CustomerStateCode  11878 non-null  object        \n",
      " 5   CustomerState      11887 non-null  object        \n",
      " 6   CustomerZip        11887 non-null  object        \n",
      " 7   CustomerCountry    11887 non-null  object        \n",
      " 8   CustomerContinent  11887 non-null  object        \n",
      " 9   CustomerDOB        11887 non-null  datetime64[ns]\n",
      "dtypes: datetime64[ns](1), int64(1), object(8)\n",
      "memory usage: 928.8+ KB\n"
     ]
    }
   ],
   "source": [
    "customer_df.info()"
   ]
  },
  {
   "cell_type": "code",
   "execution_count": 167,
   "id": "5344abe0-c688-4e34-bcdd-049fc8311c96",
   "metadata": {},
   "outputs": [
    {
     "data": {
      "text/html": [
       "<div>\n",
       "<style scoped>\n",
       "    .dataframe tbody tr th:only-of-type {\n",
       "        vertical-align: middle;\n",
       "    }\n",
       "\n",
       "    .dataframe tbody tr th {\n",
       "        vertical-align: top;\n",
       "    }\n",
       "\n",
       "    .dataframe thead th {\n",
       "        text-align: right;\n",
       "    }\n",
       "</style>\n",
       "<table border=\"1\" class=\"dataframe\">\n",
       "  <thead>\n",
       "    <tr style=\"text-align: right;\">\n",
       "      <th></th>\n",
       "      <th>CustomerID</th>\n",
       "      <th>CustomerDOB</th>\n",
       "    </tr>\n",
       "  </thead>\n",
       "  <tbody>\n",
       "    <tr>\n",
       "      <th>count</th>\n",
       "      <td>1.188700e+04</td>\n",
       "      <td>11887</td>\n",
       "    </tr>\n",
       "    <tr>\n",
       "      <th>mean</th>\n",
       "      <td>1.110392e+06</td>\n",
       "      <td>1968-10-22 13:40:29.174728696</td>\n",
       "    </tr>\n",
       "    <tr>\n",
       "      <th>min</th>\n",
       "      <td>3.010000e+02</td>\n",
       "      <td>1935-02-04 00:00:00</td>\n",
       "    </tr>\n",
       "    <tr>\n",
       "      <th>25%</th>\n",
       "      <td>5.749655e+05</td>\n",
       "      <td>1952-03-09 12:00:00</td>\n",
       "    </tr>\n",
       "    <tr>\n",
       "      <th>50%</th>\n",
       "      <td>1.153522e+06</td>\n",
       "      <td>1968-09-28 00:00:00</td>\n",
       "    </tr>\n",
       "    <tr>\n",
       "      <th>75%</th>\n",
       "      <td>1.627821e+06</td>\n",
       "      <td>1985-07-24 00:00:00</td>\n",
       "    </tr>\n",
       "    <tr>\n",
       "      <th>max</th>\n",
       "      <td>2.099937e+06</td>\n",
       "      <td>2002-01-30 00:00:00</td>\n",
       "    </tr>\n",
       "    <tr>\n",
       "      <th>std</th>\n",
       "      <td>5.991078e+05</td>\n",
       "      <td>NaN</td>\n",
       "    </tr>\n",
       "  </tbody>\n",
       "</table>\n",
       "</div>"
      ],
      "text/plain": [
       "         CustomerID                    CustomerDOB\n",
       "count  1.188700e+04                          11887\n",
       "mean   1.110392e+06  1968-10-22 13:40:29.174728696\n",
       "min    3.010000e+02            1935-02-04 00:00:00\n",
       "25%    5.749655e+05            1952-03-09 12:00:00\n",
       "50%    1.153522e+06            1968-09-28 00:00:00\n",
       "75%    1.627821e+06            1985-07-24 00:00:00\n",
       "max    2.099937e+06            2002-01-30 00:00:00\n",
       "std    5.991078e+05                            NaN"
      ]
     },
     "execution_count": 167,
     "metadata": {},
     "output_type": "execute_result"
    }
   ],
   "source": [
    "customer_df.describe()"
   ]
  },
  {
   "cell_type": "code",
   "execution_count": 168,
   "id": "3b7f1d35-2d32-4c2a-b8ea-e02123f30919",
   "metadata": {},
   "outputs": [
    {
     "data": {
      "text/plain": [
       "CustomerID           0\n",
       "CustomerGender       0\n",
       "CustomerName         0\n",
       "CustomerCity         0\n",
       "CustomerStateCode    9\n",
       "CustomerState        0\n",
       "CustomerZip          0\n",
       "CustomerCountry      0\n",
       "CustomerContinent    0\n",
       "CustomerDOB          0\n",
       "dtype: int64"
      ]
     },
     "execution_count": 168,
     "metadata": {},
     "output_type": "execute_result"
    }
   ],
   "source": [
    "customer_df.isna().sum()"
   ]
  },
  {
   "cell_type": "code",
   "execution_count": 169,
   "id": "37ac2d15-90dc-43fe-aa0e-43e682b0893f",
   "metadata": {},
   "outputs": [
    {
     "data": {
      "text/html": [
       "<div>\n",
       "<style scoped>\n",
       "    .dataframe tbody tr th:only-of-type {\n",
       "        vertical-align: middle;\n",
       "    }\n",
       "\n",
       "    .dataframe tbody tr th {\n",
       "        vertical-align: top;\n",
       "    }\n",
       "\n",
       "    .dataframe thead th {\n",
       "        text-align: right;\n",
       "    }\n",
       "</style>\n",
       "<table border=\"1\" class=\"dataframe\">\n",
       "  <thead>\n",
       "    <tr style=\"text-align: right;\">\n",
       "      <th></th>\n",
       "      <th>CustomerID</th>\n",
       "      <th>CustomerGender</th>\n",
       "      <th>CustomerName</th>\n",
       "      <th>CustomerCity</th>\n",
       "      <th>CustomerStateCode</th>\n",
       "      <th>CustomerState</th>\n",
       "      <th>CustomerZip</th>\n",
       "      <th>CustomerCountry</th>\n",
       "      <th>CustomerContinent</th>\n",
       "      <th>CustomerDOB</th>\n",
       "    </tr>\n",
       "  </thead>\n",
       "  <tbody>\n",
       "  </tbody>\n",
       "</table>\n",
       "</div>"
      ],
      "text/plain": [
       "Empty DataFrame\n",
       "Columns: [CustomerID, CustomerGender, CustomerName, CustomerCity, CustomerStateCode, CustomerState, CustomerZip, CustomerCountry, CustomerContinent, CustomerDOB]\n",
       "Index: []"
      ]
     },
     "execution_count": 169,
     "metadata": {},
     "output_type": "execute_result"
    }
   ],
   "source": [
    "customer_df[customer_df.duplicated()]"
   ]
  },
  {
   "cell_type": "code",
   "execution_count": 170,
   "id": "022fc3ce-41e4-4735-b19a-c85fcc4c8761",
   "metadata": {},
   "outputs": [
    {
     "name": "stdout",
     "output_type": "stream",
     "text": [
      "Features: ['CustomerID', 'CustomerGender', 'CustomerName', 'CustomerCity', 'CustomerStateCode', 'CustomerState', 'CustomerZip', 'CustomerCountry', 'CustomerContinent', 'CustomerDOB']\n",
      "Missing Values: 9\n",
      "Unique Values: \n",
      "\n",
      "CustomerID           11887\n",
      "CustomerGender           2\n",
      "CustomerName         11783\n",
      "CustomerCity          6570\n",
      "CustomerStateCode      448\n",
      "CustomerState          491\n",
      "CustomerZip           7771\n",
      "CustomerCountry          8\n",
      "CustomerContinent        3\n",
      "CustomerDOB           9382\n",
      "dtype: int64\n"
     ]
    }
   ],
   "source": [
    "print(f'Features: {customer_df.columns.tolist()}')\n",
    "print(f'Missing Values: {customer_df.isnull().values.sum()}')\n",
    "print(f'Unique Values: \\n\\n{customer_df.nunique()}')"
   ]
  },
  {
   "cell_type": "code",
   "execution_count": 171,
   "id": "f952ed68-3b54-41ef-a4d6-0908ba00c9e8",
   "metadata": {},
   "outputs": [],
   "source": [
    "# store_df"
   ]
  },
  {
   "cell_type": "code",
   "execution_count": 172,
   "id": "5d19549d-9f38-4819-a76e-2be18c78e3a4",
   "metadata": {},
   "outputs": [
    {
     "data": {
      "text/html": [
       "<div>\n",
       "<style scoped>\n",
       "    .dataframe tbody tr th:only-of-type {\n",
       "        vertical-align: middle;\n",
       "    }\n",
       "\n",
       "    .dataframe tbody tr th {\n",
       "        vertical-align: top;\n",
       "    }\n",
       "\n",
       "    .dataframe thead th {\n",
       "        text-align: right;\n",
       "    }\n",
       "</style>\n",
       "<table border=\"1\" class=\"dataframe\">\n",
       "  <thead>\n",
       "    <tr style=\"text-align: right;\">\n",
       "      <th></th>\n",
       "      <th>StoreID</th>\n",
       "      <th>StoreCountry</th>\n",
       "      <th>StoreState</th>\n",
       "      <th>StoreSqMeters</th>\n",
       "      <th>StoreOpenDate</th>\n",
       "    </tr>\n",
       "  </thead>\n",
       "  <tbody>\n",
       "    <tr>\n",
       "      <th>0</th>\n",
       "      <td>1</td>\n",
       "      <td>Online</td>\n",
       "      <td>Online</td>\n",
       "      <td>0</td>\n",
       "      <td>2010-01-01</td>\n",
       "    </tr>\n",
       "    <tr>\n",
       "      <th>1</th>\n",
       "      <td>2</td>\n",
       "      <td>Canada</td>\n",
       "      <td>Nunavut</td>\n",
       "      <td>1210</td>\n",
       "      <td>2015-04-04</td>\n",
       "    </tr>\n",
       "    <tr>\n",
       "      <th>2</th>\n",
       "      <td>3</td>\n",
       "      <td>United Kingdom</td>\n",
       "      <td>Belfast</td>\n",
       "      <td>1800</td>\n",
       "      <td>2015-04-04</td>\n",
       "    </tr>\n",
       "    <tr>\n",
       "      <th>3</th>\n",
       "      <td>4</td>\n",
       "      <td>Netherlands</td>\n",
       "      <td>Friesland</td>\n",
       "      <td>1540</td>\n",
       "      <td>2015-12-09</td>\n",
       "    </tr>\n",
       "    <tr>\n",
       "      <th>4</th>\n",
       "      <td>5</td>\n",
       "      <td>United States</td>\n",
       "      <td>Alaska</td>\n",
       "      <td>1190</td>\n",
       "      <td>2015-01-01</td>\n",
       "    </tr>\n",
       "  </tbody>\n",
       "</table>\n",
       "</div>"
      ],
      "text/plain": [
       "   StoreID    StoreCountry StoreState  StoreSqMeters StoreOpenDate\n",
       "0        1          Online     Online              0    2010-01-01\n",
       "1        2          Canada    Nunavut           1210    2015-04-04\n",
       "2        3  United Kingdom    Belfast           1800    2015-04-04\n",
       "3        4     Netherlands  Friesland           1540    2015-12-09\n",
       "4        5   United States     Alaska           1190    2015-01-01"
      ]
     },
     "execution_count": 172,
     "metadata": {},
     "output_type": "execute_result"
    }
   ],
   "source": [
    "store_df.head()"
   ]
  },
  {
   "cell_type": "code",
   "execution_count": 173,
   "id": "de348acd-f52f-4d72-b3ac-b2e8e723aa66",
   "metadata": {},
   "outputs": [
    {
     "data": {
      "text/plain": [
       "StoreID                   int64\n",
       "StoreCountry             object\n",
       "StoreState               object\n",
       "StoreSqMeters             int64\n",
       "StoreOpenDate    datetime64[ns]\n",
       "dtype: object"
      ]
     },
     "execution_count": 173,
     "metadata": {},
     "output_type": "execute_result"
    }
   ],
   "source": [
    "store_df.dtypes"
   ]
  },
  {
   "cell_type": "code",
   "execution_count": 174,
   "id": "c29d2888-fa7d-47f7-82f4-48e9a3124a7b",
   "metadata": {},
   "outputs": [
    {
     "name": "stdout",
     "output_type": "stream",
     "text": [
      "The number of rows are: 58\n",
      "The number of columns are: 5\n"
     ]
    }
   ],
   "source": [
    "print (\"The number of rows are:\", store_df.shape[0])\n",
    "print (\"The number of columns are:\", store_df.shape[1])"
   ]
  },
  {
   "cell_type": "code",
   "execution_count": 175,
   "id": "3cbc04c3-2ccb-4691-bd71-3fd4e4e6d45e",
   "metadata": {},
   "outputs": [
    {
     "name": "stdout",
     "output_type": "stream",
     "text": [
      "<class 'pandas.core.frame.DataFrame'>\n",
      "RangeIndex: 58 entries, 0 to 57\n",
      "Data columns (total 5 columns):\n",
      " #   Column         Non-Null Count  Dtype         \n",
      "---  ------         --------------  -----         \n",
      " 0   StoreID        58 non-null     int64         \n",
      " 1   StoreCountry   58 non-null     object        \n",
      " 2   StoreState     58 non-null     object        \n",
      " 3   StoreSqMeters  58 non-null     int64         \n",
      " 4   StoreOpenDate  58 non-null     datetime64[ns]\n",
      "dtypes: datetime64[ns](1), int64(2), object(2)\n",
      "memory usage: 2.4+ KB\n"
     ]
    }
   ],
   "source": [
    "store_df.info()"
   ]
  },
  {
   "cell_type": "code",
   "execution_count": 176,
   "id": "0da991f5-3c0a-4cc2-bed7-24a0523463ab",
   "metadata": {},
   "outputs": [
    {
     "data": {
      "text/html": [
       "<div>\n",
       "<style scoped>\n",
       "    .dataframe tbody tr th:only-of-type {\n",
       "        vertical-align: middle;\n",
       "    }\n",
       "\n",
       "    .dataframe tbody tr th {\n",
       "        vertical-align: top;\n",
       "    }\n",
       "\n",
       "    .dataframe thead th {\n",
       "        text-align: right;\n",
       "    }\n",
       "</style>\n",
       "<table border=\"1\" class=\"dataframe\">\n",
       "  <thead>\n",
       "    <tr style=\"text-align: right;\">\n",
       "      <th></th>\n",
       "      <th>StoreID</th>\n",
       "      <th>StoreSqMeters</th>\n",
       "      <th>StoreOpenDate</th>\n",
       "    </tr>\n",
       "  </thead>\n",
       "  <tbody>\n",
       "    <tr>\n",
       "      <th>count</th>\n",
       "      <td>58.000000</td>\n",
       "      <td>58.000000</td>\n",
       "      <td>58</td>\n",
       "    </tr>\n",
       "    <tr>\n",
       "      <th>mean</th>\n",
       "      <td>29.500000</td>\n",
       "      <td>1375.689655</td>\n",
       "      <td>2011-11-11 21:31:02.068965632</td>\n",
       "    </tr>\n",
       "    <tr>\n",
       "      <th>min</th>\n",
       "      <td>1.000000</td>\n",
       "      <td>0.000000</td>\n",
       "      <td>2005-03-04 00:00:00</td>\n",
       "    </tr>\n",
       "    <tr>\n",
       "      <th>25%</th>\n",
       "      <td>15.250000</td>\n",
       "      <td>1021.250000</td>\n",
       "      <td>2009-12-15 00:00:00</td>\n",
       "    </tr>\n",
       "    <tr>\n",
       "      <th>50%</th>\n",
       "      <td>29.500000</td>\n",
       "      <td>1365.000000</td>\n",
       "      <td>2012-03-22 12:00:00</td>\n",
       "    </tr>\n",
       "    <tr>\n",
       "      <th>75%</th>\n",
       "      <td>43.750000</td>\n",
       "      <td>2000.000000</td>\n",
       "      <td>2014-05-17 12:00:00</td>\n",
       "    </tr>\n",
       "    <tr>\n",
       "      <th>max</th>\n",
       "      <td>58.000000</td>\n",
       "      <td>2105.000000</td>\n",
       "      <td>2019-03-05 00:00:00</td>\n",
       "    </tr>\n",
       "    <tr>\n",
       "      <th>std</th>\n",
       "      <td>16.886879</td>\n",
       "      <td>627.319170</td>\n",
       "      <td>NaN</td>\n",
       "    </tr>\n",
       "  </tbody>\n",
       "</table>\n",
       "</div>"
      ],
      "text/plain": [
       "         StoreID  StoreSqMeters                  StoreOpenDate\n",
       "count  58.000000      58.000000                             58\n",
       "mean   29.500000    1375.689655  2011-11-11 21:31:02.068965632\n",
       "min     1.000000       0.000000            2005-03-04 00:00:00\n",
       "25%    15.250000    1021.250000            2009-12-15 00:00:00\n",
       "50%    29.500000    1365.000000            2012-03-22 12:00:00\n",
       "75%    43.750000    2000.000000            2014-05-17 12:00:00\n",
       "max    58.000000    2105.000000            2019-03-05 00:00:00\n",
       "std    16.886879     627.319170                            NaN"
      ]
     },
     "execution_count": 176,
     "metadata": {},
     "output_type": "execute_result"
    }
   ],
   "source": [
    "store_df.describe()"
   ]
  },
  {
   "cell_type": "code",
   "execution_count": 177,
   "id": "5b182005-6dca-4500-8bf7-3cc9e74c3845",
   "metadata": {},
   "outputs": [
    {
     "data": {
      "text/html": [
       "<div>\n",
       "<style scoped>\n",
       "    .dataframe tbody tr th:only-of-type {\n",
       "        vertical-align: middle;\n",
       "    }\n",
       "\n",
       "    .dataframe tbody tr th {\n",
       "        vertical-align: top;\n",
       "    }\n",
       "\n",
       "    .dataframe thead th {\n",
       "        text-align: right;\n",
       "    }\n",
       "</style>\n",
       "<table border=\"1\" class=\"dataframe\">\n",
       "  <thead>\n",
       "    <tr style=\"text-align: right;\">\n",
       "      <th></th>\n",
       "      <th>StoreID</th>\n",
       "      <th>StoreCountry</th>\n",
       "      <th>StoreState</th>\n",
       "      <th>StoreSqMeters</th>\n",
       "      <th>StoreOpenDate</th>\n",
       "    </tr>\n",
       "  </thead>\n",
       "  <tbody>\n",
       "  </tbody>\n",
       "</table>\n",
       "</div>"
      ],
      "text/plain": [
       "Empty DataFrame\n",
       "Columns: [StoreID, StoreCountry, StoreState, StoreSqMeters, StoreOpenDate]\n",
       "Index: []"
      ]
     },
     "execution_count": 177,
     "metadata": {},
     "output_type": "execute_result"
    }
   ],
   "source": [
    "store_df[store_df.duplicated()]"
   ]
  },
  {
   "cell_type": "code",
   "execution_count": 178,
   "id": "e60537ff-a81e-44ea-814a-e367112a29f9",
   "metadata": {},
   "outputs": [
    {
     "name": "stdout",
     "output_type": "stream",
     "text": [
      "Features: ['StoreID', 'StoreCountry', 'StoreState', 'StoreSqMeters', 'StoreOpenDate']\n",
      "Missing Values: 0\n",
      "Unique Values: \n",
      "\n",
      "StoreID          58\n",
      "StoreCountry      9\n",
      "StoreState       58\n",
      "StoreSqMeters    33\n",
      "StoreOpenDate    23\n",
      "dtype: int64\n"
     ]
    }
   ],
   "source": [
    "print(f'Features: {store_df.columns.tolist()}')\n",
    "print(f'Missing Values: {store_df.isnull().values.sum()}')\n",
    "print(f'Unique Values: \\n\\n{store_df.nunique()}')"
   ]
  },
  {
   "cell_type": "code",
   "execution_count": 179,
   "id": "57e16b32-6d8c-4385-844a-d6db4d47adab",
   "metadata": {},
   "outputs": [],
   "source": [
    "# product_df"
   ]
  },
  {
   "cell_type": "code",
   "execution_count": 180,
   "id": "fd1bea9d-e328-442d-95c7-e6ed69761af8",
   "metadata": {},
   "outputs": [
    {
     "data": {
      "text/html": [
       "<div>\n",
       "<style scoped>\n",
       "    .dataframe tbody tr th:only-of-type {\n",
       "        vertical-align: middle;\n",
       "    }\n",
       "\n",
       "    .dataframe tbody tr th {\n",
       "        vertical-align: top;\n",
       "    }\n",
       "\n",
       "    .dataframe thead th {\n",
       "        text-align: right;\n",
       "    }\n",
       "</style>\n",
       "<table border=\"1\" class=\"dataframe\">\n",
       "  <thead>\n",
       "    <tr style=\"text-align: right;\">\n",
       "      <th></th>\n",
       "      <th>ProductID</th>\n",
       "      <th>ProductName</th>\n",
       "      <th>ProductBrand</th>\n",
       "      <th>ProductColor</th>\n",
       "      <th>ProductCost</th>\n",
       "      <th>ProductPrice</th>\n",
       "      <th>ProductSubcategoryID</th>\n",
       "    </tr>\n",
       "  </thead>\n",
       "  <tbody>\n",
       "    <tr>\n",
       "      <th>0</th>\n",
       "      <td>1304</td>\n",
       "      <td>Contoso Lens Adapter M450 White</td>\n",
       "      <td>Contoso</td>\n",
       "      <td>White</td>\n",
       "      <td>31.27</td>\n",
       "      <td>68.00</td>\n",
       "      <td>406</td>\n",
       "    </tr>\n",
       "    <tr>\n",
       "      <th>1</th>\n",
       "      <td>1048</td>\n",
       "      <td>A. Datum SLR Camera X136 Silver</td>\n",
       "      <td>A. Datum</td>\n",
       "      <td>Silver</td>\n",
       "      <td>141.47</td>\n",
       "      <td>427.00</td>\n",
       "      <td>402</td>\n",
       "    </tr>\n",
       "    <tr>\n",
       "      <th>2</th>\n",
       "      <td>2007</td>\n",
       "      <td>Fabrikam Microwave 1.5CuFt X1100 Black</td>\n",
       "      <td>Fabrikam</td>\n",
       "      <td>Black</td>\n",
       "      <td>220.64</td>\n",
       "      <td>665.94</td>\n",
       "      <td>803</td>\n",
       "    </tr>\n",
       "    <tr>\n",
       "      <th>3</th>\n",
       "      <td>1106</td>\n",
       "      <td>Contoso SLR Camera M146 Orange</td>\n",
       "      <td>Contoso</td>\n",
       "      <td>Orange</td>\n",
       "      <td>148.08</td>\n",
       "      <td>322.00</td>\n",
       "      <td>402</td>\n",
       "    </tr>\n",
       "    <tr>\n",
       "      <th>4</th>\n",
       "      <td>373</td>\n",
       "      <td>Adventure Works Laptop8.9 E0890 White</td>\n",
       "      <td>Adventure Works</td>\n",
       "      <td>White</td>\n",
       "      <td>166.20</td>\n",
       "      <td>326.00</td>\n",
       "      <td>301</td>\n",
       "    </tr>\n",
       "  </tbody>\n",
       "</table>\n",
       "</div>"
      ],
      "text/plain": [
       "   ProductID                             ProductName     ProductBrand  \\\n",
       "0       1304         Contoso Lens Adapter M450 White          Contoso   \n",
       "1       1048         A. Datum SLR Camera X136 Silver         A. Datum   \n",
       "2       2007  Fabrikam Microwave 1.5CuFt X1100 Black         Fabrikam   \n",
       "3       1106          Contoso SLR Camera M146 Orange          Contoso   \n",
       "4        373   Adventure Works Laptop8.9 E0890 White  Adventure Works   \n",
       "\n",
       "  ProductColor  ProductCost  ProductPrice  ProductSubcategoryID  \n",
       "0        White        31.27         68.00                   406  \n",
       "1       Silver       141.47        427.00                   402  \n",
       "2        Black       220.64        665.94                   803  \n",
       "3       Orange       148.08        322.00                   402  \n",
       "4        White       166.20        326.00                   301  "
      ]
     },
     "execution_count": 180,
     "metadata": {},
     "output_type": "execute_result"
    }
   ],
   "source": [
    "product_df.head()"
   ]
  },
  {
   "cell_type": "code",
   "execution_count": 181,
   "id": "7865456c-3c0d-417b-a84e-83c87d0a160f",
   "metadata": {},
   "outputs": [
    {
     "data": {
      "text/plain": [
       "ProductID                 int64\n",
       "ProductName              object\n",
       "ProductBrand             object\n",
       "ProductColor             object\n",
       "ProductCost             float64\n",
       "ProductPrice            float64\n",
       "ProductSubcategoryID      int64\n",
       "dtype: object"
      ]
     },
     "execution_count": 181,
     "metadata": {},
     "output_type": "execute_result"
    }
   ],
   "source": [
    "product_df.dtypes"
   ]
  },
  {
   "cell_type": "code",
   "execution_count": 182,
   "id": "605391b8-fe17-479c-a5ec-b2fe522245ff",
   "metadata": {},
   "outputs": [
    {
     "name": "stdout",
     "output_type": "stream",
     "text": [
      "The number of rows are: 2492\n",
      "The number of columns are: 7\n"
     ]
    }
   ],
   "source": [
    "print (\"The number of rows are:\", product_df.shape[0])\n",
    "print (\"The number of columns are:\", product_df.shape[1])"
   ]
  },
  {
   "cell_type": "code",
   "execution_count": 183,
   "id": "21f9b10a-465d-44a6-90c0-3c85d3f1c96e",
   "metadata": {},
   "outputs": [
    {
     "name": "stdout",
     "output_type": "stream",
     "text": [
      "<class 'pandas.core.frame.DataFrame'>\n",
      "RangeIndex: 2492 entries, 0 to 2491\n",
      "Data columns (total 7 columns):\n",
      " #   Column                Non-Null Count  Dtype  \n",
      "---  ------                --------------  -----  \n",
      " 0   ProductID             2492 non-null   int64  \n",
      " 1   ProductName           2492 non-null   object \n",
      " 2   ProductBrand          2492 non-null   object \n",
      " 3   ProductColor          2492 non-null   object \n",
      " 4   ProductCost           2492 non-null   float64\n",
      " 5   ProductPrice          2492 non-null   float64\n",
      " 6   ProductSubcategoryID  2492 non-null   int64  \n",
      "dtypes: float64(2), int64(2), object(3)\n",
      "memory usage: 136.4+ KB\n"
     ]
    }
   ],
   "source": [
    "product_df.info()"
   ]
  },
  {
   "cell_type": "code",
   "execution_count": 184,
   "id": "c6055d20-ffe5-452e-8b3b-5ab010149c1e",
   "metadata": {},
   "outputs": [
    {
     "data": {
      "text/html": [
       "<div>\n",
       "<style scoped>\n",
       "    .dataframe tbody tr th:only-of-type {\n",
       "        vertical-align: middle;\n",
       "    }\n",
       "\n",
       "    .dataframe tbody tr th {\n",
       "        vertical-align: top;\n",
       "    }\n",
       "\n",
       "    .dataframe thead th {\n",
       "        text-align: right;\n",
       "    }\n",
       "</style>\n",
       "<table border=\"1\" class=\"dataframe\">\n",
       "  <thead>\n",
       "    <tr style=\"text-align: right;\">\n",
       "      <th></th>\n",
       "      <th>ProductID</th>\n",
       "      <th>ProductCost</th>\n",
       "      <th>ProductPrice</th>\n",
       "      <th>ProductSubcategoryID</th>\n",
       "    </tr>\n",
       "  </thead>\n",
       "  <tbody>\n",
       "    <tr>\n",
       "      <th>count</th>\n",
       "      <td>2492.000000</td>\n",
       "      <td>2492.000000</td>\n",
       "      <td>2492.000000</td>\n",
       "      <td>2492.000000</td>\n",
       "    </tr>\n",
       "    <tr>\n",
       "      <th>mean</th>\n",
       "      <td>1249.902087</td>\n",
       "      <td>147.875405</td>\n",
       "      <td>357.571120</td>\n",
       "      <td>488.902087</td>\n",
       "    </tr>\n",
       "    <tr>\n",
       "      <th>std</th>\n",
       "      <td>723.560119</td>\n",
       "      <td>184.637974</td>\n",
       "      <td>495.398809</td>\n",
       "      <td>228.881411</td>\n",
       "    </tr>\n",
       "    <tr>\n",
       "      <th>min</th>\n",
       "      <td>1.000000</td>\n",
       "      <td>0.480000</td>\n",
       "      <td>0.950000</td>\n",
       "      <td>101.000000</td>\n",
       "    </tr>\n",
       "    <tr>\n",
       "      <th>25%</th>\n",
       "      <td>624.750000</td>\n",
       "      <td>32.250000</td>\n",
       "      <td>68.750000</td>\n",
       "      <td>305.000000</td>\n",
       "    </tr>\n",
       "    <tr>\n",
       "      <th>50%</th>\n",
       "      <td>1247.500000</td>\n",
       "      <td>86.670000</td>\n",
       "      <td>199.990000</td>\n",
       "      <td>406.000000</td>\n",
       "    </tr>\n",
       "    <tr>\n",
       "      <th>75%</th>\n",
       "      <td>1870.250000</td>\n",
       "      <td>186.855000</td>\n",
       "      <td>410.250000</td>\n",
       "      <td>801.000000</td>\n",
       "    </tr>\n",
       "    <tr>\n",
       "      <th>max</th>\n",
       "      <td>2517.000000</td>\n",
       "      <td>1060.220000</td>\n",
       "      <td>3199.990000</td>\n",
       "      <td>808.000000</td>\n",
       "    </tr>\n",
       "  </tbody>\n",
       "</table>\n",
       "</div>"
      ],
      "text/plain": [
       "         ProductID  ProductCost  ProductPrice  ProductSubcategoryID\n",
       "count  2492.000000  2492.000000   2492.000000           2492.000000\n",
       "mean   1249.902087   147.875405    357.571120            488.902087\n",
       "std     723.560119   184.637974    495.398809            228.881411\n",
       "min       1.000000     0.480000      0.950000            101.000000\n",
       "25%     624.750000    32.250000     68.750000            305.000000\n",
       "50%    1247.500000    86.670000    199.990000            406.000000\n",
       "75%    1870.250000   186.855000    410.250000            801.000000\n",
       "max    2517.000000  1060.220000   3199.990000            808.000000"
      ]
     },
     "execution_count": 184,
     "metadata": {},
     "output_type": "execute_result"
    }
   ],
   "source": [
    "product_df.describe()"
   ]
  },
  {
   "cell_type": "code",
   "execution_count": 185,
   "id": "cb301f54-ccac-475b-99e6-38725d3f98f3",
   "metadata": {},
   "outputs": [
    {
     "data": {
      "text/plain": [
       "ProductID               0\n",
       "ProductName             0\n",
       "ProductBrand            0\n",
       "ProductColor            0\n",
       "ProductCost             0\n",
       "ProductPrice            0\n",
       "ProductSubcategoryID    0\n",
       "dtype: int64"
      ]
     },
     "execution_count": 185,
     "metadata": {},
     "output_type": "execute_result"
    }
   ],
   "source": [
    "product_df.isna().sum()"
   ]
  },
  {
   "cell_type": "code",
   "execution_count": 186,
   "id": "acf5fee9-6d56-484d-bf23-7b9d84350f80",
   "metadata": {},
   "outputs": [
    {
     "data": {
      "text/html": [
       "<div>\n",
       "<style scoped>\n",
       "    .dataframe tbody tr th:only-of-type {\n",
       "        vertical-align: middle;\n",
       "    }\n",
       "\n",
       "    .dataframe tbody tr th {\n",
       "        vertical-align: top;\n",
       "    }\n",
       "\n",
       "    .dataframe thead th {\n",
       "        text-align: right;\n",
       "    }\n",
       "</style>\n",
       "<table border=\"1\" class=\"dataframe\">\n",
       "  <thead>\n",
       "    <tr style=\"text-align: right;\">\n",
       "      <th></th>\n",
       "      <th>ProductID</th>\n",
       "      <th>ProductName</th>\n",
       "      <th>ProductBrand</th>\n",
       "      <th>ProductColor</th>\n",
       "      <th>ProductCost</th>\n",
       "      <th>ProductPrice</th>\n",
       "      <th>ProductSubcategoryID</th>\n",
       "    </tr>\n",
       "  </thead>\n",
       "  <tbody>\n",
       "  </tbody>\n",
       "</table>\n",
       "</div>"
      ],
      "text/plain": [
       "Empty DataFrame\n",
       "Columns: [ProductID, ProductName, ProductBrand, ProductColor, ProductCost, ProductPrice, ProductSubcategoryID]\n",
       "Index: []"
      ]
     },
     "execution_count": 186,
     "metadata": {},
     "output_type": "execute_result"
    }
   ],
   "source": [
    "product_df[product_df.duplicated()]"
   ]
  },
  {
   "cell_type": "code",
   "execution_count": 187,
   "id": "c67b1c20-721f-40a2-abdc-8d0d18ab7aa6",
   "metadata": {},
   "outputs": [
    {
     "name": "stdout",
     "output_type": "stream",
     "text": [
      "Features: ['ProductID', 'ProductName', 'ProductBrand', 'ProductColor', 'ProductCost', 'ProductPrice', 'ProductSubcategoryID']\n",
      "Missing Values: 0\n",
      "Unique Values: \n",
      "\n",
      "ProductID               2492\n",
      "ProductName             2492\n",
      "ProductBrand              11\n",
      "ProductColor              16\n",
      "ProductCost              480\n",
      "ProductPrice             426\n",
      "ProductSubcategoryID      32\n",
      "dtype: int64\n"
     ]
    }
   ],
   "source": [
    "print(f'Features: {product_df.columns.tolist()}')\n",
    "print(f'Missing Values: {product_df.isnull().values.sum()}')\n",
    "print(f'Unique Values: \\n\\n{product_df.nunique()}')"
   ]
  },
  {
   "cell_type": "code",
   "execution_count": 188,
   "id": "925ea25c-b2a6-4919-a388-00a8a1eedf87",
   "metadata": {},
   "outputs": [],
   "source": [
    "# product_subcategory_df"
   ]
  },
  {
   "cell_type": "code",
   "execution_count": 189,
   "id": "a05adb47-d0ab-446d-a0f5-20e494dabfd9",
   "metadata": {},
   "outputs": [
    {
     "data": {
      "text/html": [
       "<div>\n",
       "<style scoped>\n",
       "    .dataframe tbody tr th:only-of-type {\n",
       "        vertical-align: middle;\n",
       "    }\n",
       "\n",
       "    .dataframe tbody tr th {\n",
       "        vertical-align: top;\n",
       "    }\n",
       "\n",
       "    .dataframe thead th {\n",
       "        text-align: right;\n",
       "    }\n",
       "</style>\n",
       "<table border=\"1\" class=\"dataframe\">\n",
       "  <thead>\n",
       "    <tr style=\"text-align: right;\">\n",
       "      <th></th>\n",
       "      <th>ProductSubcategoryID</th>\n",
       "      <th>ProductSubcategory</th>\n",
       "      <th>ProductCategoryID</th>\n",
       "    </tr>\n",
       "  </thead>\n",
       "  <tbody>\n",
       "    <tr>\n",
       "      <th>0</th>\n",
       "      <td>101</td>\n",
       "      <td>MP4&amp;MP3</td>\n",
       "      <td>1</td>\n",
       "    </tr>\n",
       "    <tr>\n",
       "      <th>1</th>\n",
       "      <td>104</td>\n",
       "      <td>Recording Pen</td>\n",
       "      <td>1</td>\n",
       "    </tr>\n",
       "    <tr>\n",
       "      <th>2</th>\n",
       "      <td>106</td>\n",
       "      <td>Bluetooth Headphones</td>\n",
       "      <td>1</td>\n",
       "    </tr>\n",
       "    <tr>\n",
       "      <th>3</th>\n",
       "      <td>201</td>\n",
       "      <td>Televisions</td>\n",
       "      <td>2</td>\n",
       "    </tr>\n",
       "    <tr>\n",
       "      <th>4</th>\n",
       "      <td>202</td>\n",
       "      <td>VCD &amp; DVD</td>\n",
       "      <td>2</td>\n",
       "    </tr>\n",
       "  </tbody>\n",
       "</table>\n",
       "</div>"
      ],
      "text/plain": [
       "   ProductSubcategoryID    ProductSubcategory  ProductCategoryID\n",
       "0                   101               MP4&MP3                  1\n",
       "1                   104         Recording Pen                  1\n",
       "2                   106  Bluetooth Headphones                  1\n",
       "3                   201           Televisions                  2\n",
       "4                   202             VCD & DVD                  2"
      ]
     },
     "execution_count": 189,
     "metadata": {},
     "output_type": "execute_result"
    }
   ],
   "source": [
    "product_subcategory_df.head()"
   ]
  },
  {
   "cell_type": "code",
   "execution_count": 190,
   "id": "2f28eaf9-163e-4c05-92e4-61263db67b1a",
   "metadata": {},
   "outputs": [
    {
     "data": {
      "text/plain": [
       "ProductSubcategoryID     int64\n",
       "ProductSubcategory      object\n",
       "ProductCategoryID        int64\n",
       "dtype: object"
      ]
     },
     "execution_count": 190,
     "metadata": {},
     "output_type": "execute_result"
    }
   ],
   "source": [
    "product_subcategory_df.dtypes"
   ]
  },
  {
   "cell_type": "code",
   "execution_count": 191,
   "id": "9f4cbc10-7fb3-4836-afd1-528fe17f45e5",
   "metadata": {},
   "outputs": [
    {
     "name": "stdout",
     "output_type": "stream",
     "text": [
      "The number of rows are: 32\n",
      "The number of columns are: 3\n"
     ]
    }
   ],
   "source": [
    "print (\"The number of rows are:\", product_subcategory_df.shape[0])\n",
    "print (\"The number of columns are:\", product_subcategory_df.shape[1])"
   ]
  },
  {
   "cell_type": "code",
   "execution_count": 192,
   "id": "1d0be1b9-43f0-487b-bf6f-69b432b71c47",
   "metadata": {},
   "outputs": [
    {
     "name": "stdout",
     "output_type": "stream",
     "text": [
      "<class 'pandas.core.frame.DataFrame'>\n",
      "RangeIndex: 32 entries, 0 to 31\n",
      "Data columns (total 3 columns):\n",
      " #   Column                Non-Null Count  Dtype \n",
      "---  ------                --------------  ----- \n",
      " 0   ProductSubcategoryID  32 non-null     int64 \n",
      " 1   ProductSubcategory    32 non-null     object\n",
      " 2   ProductCategoryID     32 non-null     int64 \n",
      "dtypes: int64(2), object(1)\n",
      "memory usage: 900.0+ bytes\n"
     ]
    }
   ],
   "source": [
    "product_subcategory_df.info()"
   ]
  },
  {
   "cell_type": "code",
   "execution_count": 193,
   "id": "b2aa9422-0a74-496f-975c-a40c1c4b8101",
   "metadata": {},
   "outputs": [
    {
     "data": {
      "text/html": [
       "<div>\n",
       "<style scoped>\n",
       "    .dataframe tbody tr th:only-of-type {\n",
       "        vertical-align: middle;\n",
       "    }\n",
       "\n",
       "    .dataframe tbody tr th {\n",
       "        vertical-align: top;\n",
       "    }\n",
       "\n",
       "    .dataframe thead th {\n",
       "        text-align: right;\n",
       "    }\n",
       "</style>\n",
       "<table border=\"1\" class=\"dataframe\">\n",
       "  <thead>\n",
       "    <tr style=\"text-align: right;\">\n",
       "      <th></th>\n",
       "      <th>ProductSubcategoryID</th>\n",
       "      <th>ProductCategoryID</th>\n",
       "    </tr>\n",
       "  </thead>\n",
       "  <tbody>\n",
       "    <tr>\n",
       "      <th>count</th>\n",
       "      <td>32.00000</td>\n",
       "      <td>32.000000</td>\n",
       "    </tr>\n",
       "    <tr>\n",
       "      <th>mean</th>\n",
       "      <td>469.28125</td>\n",
       "      <td>4.656250</td>\n",
       "    </tr>\n",
       "    <tr>\n",
       "      <th>std</th>\n",
       "      <td>247.21523</td>\n",
       "      <td>2.470593</td>\n",
       "    </tr>\n",
       "    <tr>\n",
       "      <th>min</th>\n",
       "      <td>101.00000</td>\n",
       "      <td>1.000000</td>\n",
       "    </tr>\n",
       "    <tr>\n",
       "      <th>25%</th>\n",
       "      <td>302.50000</td>\n",
       "      <td>3.000000</td>\n",
       "    </tr>\n",
       "    <tr>\n",
       "      <th>50%</th>\n",
       "      <td>405.50000</td>\n",
       "      <td>4.000000</td>\n",
       "    </tr>\n",
       "    <tr>\n",
       "      <th>75%</th>\n",
       "      <td>726.75000</td>\n",
       "      <td>7.250000</td>\n",
       "    </tr>\n",
       "    <tr>\n",
       "      <th>max</th>\n",
       "      <td>808.00000</td>\n",
       "      <td>8.000000</td>\n",
       "    </tr>\n",
       "  </tbody>\n",
       "</table>\n",
       "</div>"
      ],
      "text/plain": [
       "       ProductSubcategoryID  ProductCategoryID\n",
       "count              32.00000          32.000000\n",
       "mean              469.28125           4.656250\n",
       "std               247.21523           2.470593\n",
       "min               101.00000           1.000000\n",
       "25%               302.50000           3.000000\n",
       "50%               405.50000           4.000000\n",
       "75%               726.75000           7.250000\n",
       "max               808.00000           8.000000"
      ]
     },
     "execution_count": 193,
     "metadata": {},
     "output_type": "execute_result"
    }
   ],
   "source": [
    "product_subcategory_df.describe()"
   ]
  },
  {
   "cell_type": "code",
   "execution_count": 194,
   "id": "613deed6-7307-4bf1-8659-d1d15c8667f2",
   "metadata": {},
   "outputs": [
    {
     "data": {
      "text/plain": [
       "ProductSubcategoryID    0\n",
       "ProductSubcategory      0\n",
       "ProductCategoryID       0\n",
       "dtype: int64"
      ]
     },
     "execution_count": 194,
     "metadata": {},
     "output_type": "execute_result"
    }
   ],
   "source": [
    "product_subcategory_df.isna().sum()"
   ]
  },
  {
   "cell_type": "code",
   "execution_count": 195,
   "id": "92bbd255-1ec2-48ca-9f07-4d26caa84e97",
   "metadata": {},
   "outputs": [
    {
     "data": {
      "text/html": [
       "<div>\n",
       "<style scoped>\n",
       "    .dataframe tbody tr th:only-of-type {\n",
       "        vertical-align: middle;\n",
       "    }\n",
       "\n",
       "    .dataframe tbody tr th {\n",
       "        vertical-align: top;\n",
       "    }\n",
       "\n",
       "    .dataframe thead th {\n",
       "        text-align: right;\n",
       "    }\n",
       "</style>\n",
       "<table border=\"1\" class=\"dataframe\">\n",
       "  <thead>\n",
       "    <tr style=\"text-align: right;\">\n",
       "      <th></th>\n",
       "      <th>ProductSubcategoryID</th>\n",
       "      <th>ProductSubcategory</th>\n",
       "      <th>ProductCategoryID</th>\n",
       "    </tr>\n",
       "  </thead>\n",
       "  <tbody>\n",
       "  </tbody>\n",
       "</table>\n",
       "</div>"
      ],
      "text/plain": [
       "Empty DataFrame\n",
       "Columns: [ProductSubcategoryID, ProductSubcategory, ProductCategoryID]\n",
       "Index: []"
      ]
     },
     "execution_count": 195,
     "metadata": {},
     "output_type": "execute_result"
    }
   ],
   "source": [
    "product_subcategory_df[product_subcategory_df.duplicated()]"
   ]
  },
  {
   "cell_type": "code",
   "execution_count": 196,
   "id": "dbeff758-3e61-426d-aadb-06319fb16c73",
   "metadata": {},
   "outputs": [
    {
     "name": "stdout",
     "output_type": "stream",
     "text": [
      "Features: ['ProductSubcategoryID', 'ProductSubcategory', 'ProductCategoryID']\n",
      "Missing Values: 0\n",
      "Unique Values: \n",
      "\n",
      "ProductSubcategoryID    32\n",
      "ProductSubcategory      32\n",
      "ProductCategoryID        8\n",
      "dtype: int64\n"
     ]
    }
   ],
   "source": [
    "print(f'Features: {product_subcategory_df.columns.tolist()}')\n",
    "print(f'Missing Values: {product_subcategory_df.isnull().values.sum()}')\n",
    "print(f'Unique Values: \\n\\n{product_subcategory_df.nunique()}')"
   ]
  },
  {
   "cell_type": "code",
   "execution_count": 197,
   "id": "bb88030a-0999-46e3-b622-eb9d0ea63e29",
   "metadata": {},
   "outputs": [],
   "source": [
    "# product_category_df"
   ]
  },
  {
   "cell_type": "code",
   "execution_count": 198,
   "id": "b3cf8f9f-1e33-4660-8609-907ba76da51c",
   "metadata": {},
   "outputs": [
    {
     "data": {
      "text/html": [
       "<div>\n",
       "<style scoped>\n",
       "    .dataframe tbody tr th:only-of-type {\n",
       "        vertical-align: middle;\n",
       "    }\n",
       "\n",
       "    .dataframe tbody tr th {\n",
       "        vertical-align: top;\n",
       "    }\n",
       "\n",
       "    .dataframe thead th {\n",
       "        text-align: right;\n",
       "    }\n",
       "</style>\n",
       "<table border=\"1\" class=\"dataframe\">\n",
       "  <thead>\n",
       "    <tr style=\"text-align: right;\">\n",
       "      <th></th>\n",
       "      <th>ProductCategoryID</th>\n",
       "      <th>ProductCategory</th>\n",
       "    </tr>\n",
       "  </thead>\n",
       "  <tbody>\n",
       "    <tr>\n",
       "      <th>0</th>\n",
       "      <td>1</td>\n",
       "      <td>Audio</td>\n",
       "    </tr>\n",
       "    <tr>\n",
       "      <th>1</th>\n",
       "      <td>2</td>\n",
       "      <td>TV and Video</td>\n",
       "    </tr>\n",
       "    <tr>\n",
       "      <th>2</th>\n",
       "      <td>3</td>\n",
       "      <td>Computers</td>\n",
       "    </tr>\n",
       "    <tr>\n",
       "      <th>3</th>\n",
       "      <td>4</td>\n",
       "      <td>Cameras and camcorders</td>\n",
       "    </tr>\n",
       "    <tr>\n",
       "      <th>4</th>\n",
       "      <td>5</td>\n",
       "      <td>Cell phones</td>\n",
       "    </tr>\n",
       "    <tr>\n",
       "      <th>5</th>\n",
       "      <td>6</td>\n",
       "      <td>Music, Movies and Audio Books</td>\n",
       "    </tr>\n",
       "    <tr>\n",
       "      <th>6</th>\n",
       "      <td>7</td>\n",
       "      <td>Games and Toys</td>\n",
       "    </tr>\n",
       "    <tr>\n",
       "      <th>7</th>\n",
       "      <td>8</td>\n",
       "      <td>Home Appliances</td>\n",
       "    </tr>\n",
       "  </tbody>\n",
       "</table>\n",
       "</div>"
      ],
      "text/plain": [
       "   ProductCategoryID                ProductCategory\n",
       "0                  1                          Audio\n",
       "1                  2                   TV and Video\n",
       "2                  3                      Computers\n",
       "3                  4         Cameras and camcorders\n",
       "4                  5                    Cell phones\n",
       "5                  6  Music, Movies and Audio Books\n",
       "6                  7                 Games and Toys\n",
       "7                  8                Home Appliances"
      ]
     },
     "execution_count": 198,
     "metadata": {},
     "output_type": "execute_result"
    }
   ],
   "source": [
    "product_category_df"
   ]
  },
  {
   "cell_type": "code",
   "execution_count": 199,
   "id": "fd0b8a09-b603-46e3-9d3b-207588212eca",
   "metadata": {},
   "outputs": [
    {
     "data": {
      "text/plain": [
       "ProductCategoryID     int64\n",
       "ProductCategory      object\n",
       "dtype: object"
      ]
     },
     "execution_count": 199,
     "metadata": {},
     "output_type": "execute_result"
    }
   ],
   "source": [
    "product_category_df.dtypes"
   ]
  },
  {
   "cell_type": "code",
   "execution_count": 200,
   "id": "1813b74b-c1ce-45e7-85b0-67fbb22d186b",
   "metadata": {},
   "outputs": [
    {
     "name": "stdout",
     "output_type": "stream",
     "text": [
      "The number of rows are: 8\n",
      "The number of columns are: 2\n"
     ]
    }
   ],
   "source": [
    "print (\"The number of rows are:\", product_category_df.shape[0])\n",
    "print (\"The number of columns are:\", product_category_df.shape[1])"
   ]
  },
  {
   "cell_type": "code",
   "execution_count": 201,
   "id": "58e1473f-698d-4fb6-a5db-5f59bee08edc",
   "metadata": {},
   "outputs": [
    {
     "name": "stdout",
     "output_type": "stream",
     "text": [
      "<class 'pandas.core.frame.DataFrame'>\n",
      "RangeIndex: 8 entries, 0 to 7\n",
      "Data columns (total 2 columns):\n",
      " #   Column             Non-Null Count  Dtype \n",
      "---  ------             --------------  ----- \n",
      " 0   ProductCategoryID  8 non-null      int64 \n",
      " 1   ProductCategory    8 non-null      object\n",
      "dtypes: int64(1), object(1)\n",
      "memory usage: 260.0+ bytes\n"
     ]
    }
   ],
   "source": [
    "product_category_df.info()"
   ]
  },
  {
   "cell_type": "code",
   "execution_count": 202,
   "id": "201a397a-9fd0-4da7-b2f6-035fc24e89a0",
   "metadata": {},
   "outputs": [
    {
     "data": {
      "text/html": [
       "<div>\n",
       "<style scoped>\n",
       "    .dataframe tbody tr th:only-of-type {\n",
       "        vertical-align: middle;\n",
       "    }\n",
       "\n",
       "    .dataframe tbody tr th {\n",
       "        vertical-align: top;\n",
       "    }\n",
       "\n",
       "    .dataframe thead th {\n",
       "        text-align: right;\n",
       "    }\n",
       "</style>\n",
       "<table border=\"1\" class=\"dataframe\">\n",
       "  <thead>\n",
       "    <tr style=\"text-align: right;\">\n",
       "      <th></th>\n",
       "      <th>ProductCategoryID</th>\n",
       "    </tr>\n",
       "  </thead>\n",
       "  <tbody>\n",
       "    <tr>\n",
       "      <th>count</th>\n",
       "      <td>8.00000</td>\n",
       "    </tr>\n",
       "    <tr>\n",
       "      <th>mean</th>\n",
       "      <td>4.50000</td>\n",
       "    </tr>\n",
       "    <tr>\n",
       "      <th>std</th>\n",
       "      <td>2.44949</td>\n",
       "    </tr>\n",
       "    <tr>\n",
       "      <th>min</th>\n",
       "      <td>1.00000</td>\n",
       "    </tr>\n",
       "    <tr>\n",
       "      <th>25%</th>\n",
       "      <td>2.75000</td>\n",
       "    </tr>\n",
       "    <tr>\n",
       "      <th>50%</th>\n",
       "      <td>4.50000</td>\n",
       "    </tr>\n",
       "    <tr>\n",
       "      <th>75%</th>\n",
       "      <td>6.25000</td>\n",
       "    </tr>\n",
       "    <tr>\n",
       "      <th>max</th>\n",
       "      <td>8.00000</td>\n",
       "    </tr>\n",
       "  </tbody>\n",
       "</table>\n",
       "</div>"
      ],
      "text/plain": [
       "       ProductCategoryID\n",
       "count            8.00000\n",
       "mean             4.50000\n",
       "std              2.44949\n",
       "min              1.00000\n",
       "25%              2.75000\n",
       "50%              4.50000\n",
       "75%              6.25000\n",
       "max              8.00000"
      ]
     },
     "execution_count": 202,
     "metadata": {},
     "output_type": "execute_result"
    }
   ],
   "source": [
    "product_category_df.describe()"
   ]
  },
  {
   "cell_type": "code",
   "execution_count": 203,
   "id": "25e9b04e-2aaa-4c4f-8712-62fcedbbce47",
   "metadata": {},
   "outputs": [
    {
     "data": {
      "text/html": [
       "<div>\n",
       "<style scoped>\n",
       "    .dataframe tbody tr th:only-of-type {\n",
       "        vertical-align: middle;\n",
       "    }\n",
       "\n",
       "    .dataframe tbody tr th {\n",
       "        vertical-align: top;\n",
       "    }\n",
       "\n",
       "    .dataframe thead th {\n",
       "        text-align: right;\n",
       "    }\n",
       "</style>\n",
       "<table border=\"1\" class=\"dataframe\">\n",
       "  <thead>\n",
       "    <tr style=\"text-align: right;\">\n",
       "      <th></th>\n",
       "      <th>ProductCategoryID</th>\n",
       "      <th>ProductCategory</th>\n",
       "    </tr>\n",
       "  </thead>\n",
       "  <tbody>\n",
       "  </tbody>\n",
       "</table>\n",
       "</div>"
      ],
      "text/plain": [
       "Empty DataFrame\n",
       "Columns: [ProductCategoryID, ProductCategory]\n",
       "Index: []"
      ]
     },
     "execution_count": 203,
     "metadata": {},
     "output_type": "execute_result"
    }
   ],
   "source": [
    "product_category_df[product_category_df.duplicated()]"
   ]
  },
  {
   "cell_type": "code",
   "execution_count": 204,
   "id": "da9cce9c-c87f-4981-94ce-a762d617e745",
   "metadata": {},
   "outputs": [
    {
     "name": "stdout",
     "output_type": "stream",
     "text": [
      "Features: ['ProductCategoryID', 'ProductCategory']\n",
      "Missing Values: 0\n",
      "Unique Values: \n",
      "\n",
      "ProductCategoryID    8\n",
      "ProductCategory      8\n",
      "dtype: int64\n"
     ]
    }
   ],
   "source": [
    "print(f'Features: {product_category_df.columns.tolist()}')\n",
    "print(f'Missing Values: {product_category_df.isnull().values.sum()}')\n",
    "print(f'Unique Values: \\n\\n{product_category_df.nunique()}')"
   ]
  },
  {
   "cell_type": "code",
   "execution_count": 205,
   "id": "01f95b13-ca8e-4698-b71b-0f452ccb4125",
   "metadata": {},
   "outputs": [],
   "source": [
    "# order_df"
   ]
  },
  {
   "cell_type": "code",
   "execution_count": 206,
   "id": "fcd6f03f-0f78-4d33-801b-5097af101285",
   "metadata": {},
   "outputs": [
    {
     "data": {
      "text/html": [
       "<div>\n",
       "<style scoped>\n",
       "    .dataframe tbody tr th:only-of-type {\n",
       "        vertical-align: middle;\n",
       "    }\n",
       "\n",
       "    .dataframe tbody tr th {\n",
       "        vertical-align: top;\n",
       "    }\n",
       "\n",
       "    .dataframe thead th {\n",
       "        text-align: right;\n",
       "    }\n",
       "</style>\n",
       "<table border=\"1\" class=\"dataframe\">\n",
       "  <thead>\n",
       "    <tr style=\"text-align: right;\">\n",
       "      <th></th>\n",
       "      <th>OrderID</th>\n",
       "      <th>CustomerID</th>\n",
       "      <th>StoreID</th>\n",
       "      <th>OrderDate</th>\n",
       "      <th>DeliveryDate</th>\n",
       "    </tr>\n",
       "  </thead>\n",
       "  <tbody>\n",
       "    <tr>\n",
       "      <th>0</th>\n",
       "      <td>366000</td>\n",
       "      <td>265598</td>\n",
       "      <td>10</td>\n",
       "      <td>2016-01-01</td>\n",
       "      <td>NaT</td>\n",
       "    </tr>\n",
       "    <tr>\n",
       "      <th>1</th>\n",
       "      <td>366001</td>\n",
       "      <td>1269051</td>\n",
       "      <td>1</td>\n",
       "      <td>2016-01-01</td>\n",
       "      <td>2016-01-13</td>\n",
       "    </tr>\n",
       "    <tr>\n",
       "      <th>2</th>\n",
       "      <td>366002</td>\n",
       "      <td>266019</td>\n",
       "      <td>1</td>\n",
       "      <td>2016-01-01</td>\n",
       "      <td>2016-01-12</td>\n",
       "    </tr>\n",
       "    <tr>\n",
       "      <th>3</th>\n",
       "      <td>366004</td>\n",
       "      <td>1107461</td>\n",
       "      <td>38</td>\n",
       "      <td>2016-01-01</td>\n",
       "      <td>NaT</td>\n",
       "    </tr>\n",
       "    <tr>\n",
       "      <th>4</th>\n",
       "      <td>366005</td>\n",
       "      <td>844003</td>\n",
       "      <td>33</td>\n",
       "      <td>2016-01-01</td>\n",
       "      <td>NaT</td>\n",
       "    </tr>\n",
       "  </tbody>\n",
       "</table>\n",
       "</div>"
      ],
      "text/plain": [
       "   OrderID  CustomerID  StoreID  OrderDate DeliveryDate\n",
       "0   366000      265598       10 2016-01-01          NaT\n",
       "1   366001     1269051        1 2016-01-01   2016-01-13\n",
       "2   366002      266019        1 2016-01-01   2016-01-12\n",
       "3   366004     1107461       38 2016-01-01          NaT\n",
       "4   366005      844003       33 2016-01-01          NaT"
      ]
     },
     "execution_count": 206,
     "metadata": {},
     "output_type": "execute_result"
    }
   ],
   "source": [
    "order_df.head()"
   ]
  },
  {
   "cell_type": "code",
   "execution_count": 207,
   "id": "a9ab0c0b-d26e-4049-a009-8171a9074d87",
   "metadata": {},
   "outputs": [
    {
     "data": {
      "text/plain": [
       "OrderID                  int64\n",
       "CustomerID               int64\n",
       "StoreID                  int64\n",
       "OrderDate       datetime64[ns]\n",
       "DeliveryDate    datetime64[ns]\n",
       "dtype: object"
      ]
     },
     "execution_count": 207,
     "metadata": {},
     "output_type": "execute_result"
    }
   ],
   "source": [
    "order_df.dtypes"
   ]
  },
  {
   "cell_type": "code",
   "execution_count": 208,
   "id": "eb81e43e-fddc-4937-980b-db63e657668b",
   "metadata": {},
   "outputs": [
    {
     "name": "stdout",
     "output_type": "stream",
     "text": [
      "The number of rows are: 26326\n",
      "The number of columns are: 5\n"
     ]
    }
   ],
   "source": [
    "print (\"The number of rows are:\", order_df.shape[0])\n",
    "print (\"The number of columns are:\", order_df.shape[1])"
   ]
  },
  {
   "cell_type": "code",
   "execution_count": 209,
   "id": "0eaa57d2-f77e-477e-9c57-c42d1b68a92c",
   "metadata": {},
   "outputs": [
    {
     "name": "stdout",
     "output_type": "stream",
     "text": [
      "<class 'pandas.core.frame.DataFrame'>\n",
      "RangeIndex: 26326 entries, 0 to 26325\n",
      "Data columns (total 5 columns):\n",
      " #   Column        Non-Null Count  Dtype         \n",
      "---  ------        --------------  -----         \n",
      " 0   OrderID       26326 non-null  int64         \n",
      " 1   CustomerID    26326 non-null  int64         \n",
      " 2   StoreID       26326 non-null  int64         \n",
      " 3   OrderDate     26326 non-null  datetime64[ns]\n",
      " 4   DeliveryDate  5580 non-null   datetime64[ns]\n",
      "dtypes: datetime64[ns](2), int64(3)\n",
      "memory usage: 1.0 MB\n"
     ]
    }
   ],
   "source": [
    "order_df.info()"
   ]
  },
  {
   "cell_type": "code",
   "execution_count": 210,
   "id": "bb55f588-2b37-437c-b3ec-c626afc0b211",
   "metadata": {},
   "outputs": [
    {
     "data": {
      "text/html": [
       "<div>\n",
       "<style scoped>\n",
       "    .dataframe tbody tr th:only-of-type {\n",
       "        vertical-align: middle;\n",
       "    }\n",
       "\n",
       "    .dataframe tbody tr th {\n",
       "        vertical-align: top;\n",
       "    }\n",
       "\n",
       "    .dataframe thead th {\n",
       "        text-align: right;\n",
       "    }\n",
       "</style>\n",
       "<table border=\"1\" class=\"dataframe\">\n",
       "  <thead>\n",
       "    <tr style=\"text-align: right;\">\n",
       "      <th></th>\n",
       "      <th>OrderID</th>\n",
       "      <th>CustomerID</th>\n",
       "      <th>StoreID</th>\n",
       "      <th>OrderDate</th>\n",
       "      <th>DeliveryDate</th>\n",
       "    </tr>\n",
       "  </thead>\n",
       "  <tbody>\n",
       "    <tr>\n",
       "      <th>count</th>\n",
       "      <td>2.632600e+04</td>\n",
       "      <td>2.632600e+04</td>\n",
       "      <td>26326.000000</td>\n",
       "      <td>26326</td>\n",
       "      <td>5580</td>\n",
       "    </tr>\n",
       "    <tr>\n",
       "      <th>mean</th>\n",
       "      <td>1.433195e+06</td>\n",
       "      <td>1.183849e+06</td>\n",
       "      <td>32.032895</td>\n",
       "      <td>2018-12-03 04:19:22.895996416</td>\n",
       "      <td>2019-01-21 13:06:50.322580736</td>\n",
       "    </tr>\n",
       "    <tr>\n",
       "      <th>min</th>\n",
       "      <td>3.660000e+05</td>\n",
       "      <td>3.010000e+02</td>\n",
       "      <td>1.000000</td>\n",
       "      <td>2016-01-01 00:00:00</td>\n",
       "      <td>2016-01-06 00:00:00</td>\n",
       "    </tr>\n",
       "    <tr>\n",
       "      <th>25%</th>\n",
       "      <td>1.127014e+06</td>\n",
       "      <td>6.954330e+05</td>\n",
       "      <td>8.000000</td>\n",
       "      <td>2018-01-31 00:00:00</td>\n",
       "      <td>2018-05-18 00:00:00</td>\n",
       "    </tr>\n",
       "    <tr>\n",
       "      <th>50%</th>\n",
       "      <td>1.499034e+06</td>\n",
       "      <td>1.265357e+06</td>\n",
       "      <td>37.000000</td>\n",
       "      <td>2019-02-07 00:00:00</td>\n",
       "      <td>2019-03-11 00:00:00</td>\n",
       "    </tr>\n",
       "    <tr>\n",
       "      <th>75%</th>\n",
       "      <td>1.788025e+06</td>\n",
       "      <td>1.682062e+06</td>\n",
       "      <td>53.000000</td>\n",
       "      <td>2019-11-23 00:00:00</td>\n",
       "      <td>2019-12-19 00:00:00</td>\n",
       "    </tr>\n",
       "    <tr>\n",
       "      <th>max</th>\n",
       "      <td>2.243032e+06</td>\n",
       "      <td>2.099937e+06</td>\n",
       "      <td>66.000000</td>\n",
       "      <td>2021-02-20 00:00:00</td>\n",
       "      <td>2021-02-27 00:00:00</td>\n",
       "    </tr>\n",
       "    <tr>\n",
       "      <th>std</th>\n",
       "      <td>4.525186e+05</td>\n",
       "      <td>5.832701e+05</td>\n",
       "      <td>22.752358</td>\n",
       "      <td>NaN</td>\n",
       "      <td>NaN</td>\n",
       "    </tr>\n",
       "  </tbody>\n",
       "</table>\n",
       "</div>"
      ],
      "text/plain": [
       "            OrderID    CustomerID       StoreID  \\\n",
       "count  2.632600e+04  2.632600e+04  26326.000000   \n",
       "mean   1.433195e+06  1.183849e+06     32.032895   \n",
       "min    3.660000e+05  3.010000e+02      1.000000   \n",
       "25%    1.127014e+06  6.954330e+05      8.000000   \n",
       "50%    1.499034e+06  1.265357e+06     37.000000   \n",
       "75%    1.788025e+06  1.682062e+06     53.000000   \n",
       "max    2.243032e+06  2.099937e+06     66.000000   \n",
       "std    4.525186e+05  5.832701e+05     22.752358   \n",
       "\n",
       "                           OrderDate                   DeliveryDate  \n",
       "count                          26326                           5580  \n",
       "mean   2018-12-03 04:19:22.895996416  2019-01-21 13:06:50.322580736  \n",
       "min              2016-01-01 00:00:00            2016-01-06 00:00:00  \n",
       "25%              2018-01-31 00:00:00            2018-05-18 00:00:00  \n",
       "50%              2019-02-07 00:00:00            2019-03-11 00:00:00  \n",
       "75%              2019-11-23 00:00:00            2019-12-19 00:00:00  \n",
       "max              2021-02-20 00:00:00            2021-02-27 00:00:00  \n",
       "std                              NaN                            NaN  "
      ]
     },
     "execution_count": 210,
     "metadata": {},
     "output_type": "execute_result"
    }
   ],
   "source": [
    "order_df.describe()"
   ]
  },
  {
   "cell_type": "code",
   "execution_count": 211,
   "id": "7ef0ec47-2c48-44ed-b448-dbbfa0651f8a",
   "metadata": {},
   "outputs": [
    {
     "data": {
      "text/plain": [
       "OrderID             0\n",
       "CustomerID          0\n",
       "StoreID             0\n",
       "OrderDate           0\n",
       "DeliveryDate    20746\n",
       "dtype: int64"
      ]
     },
     "execution_count": 211,
     "metadata": {},
     "output_type": "execute_result"
    }
   ],
   "source": [
    "order_df.isna().sum()"
   ]
  },
  {
   "cell_type": "code",
   "execution_count": 212,
   "id": "be164967-6823-4aef-87ff-d4af9b8caa5a",
   "metadata": {},
   "outputs": [
    {
     "data": {
      "text/html": [
       "<div>\n",
       "<style scoped>\n",
       "    .dataframe tbody tr th:only-of-type {\n",
       "        vertical-align: middle;\n",
       "    }\n",
       "\n",
       "    .dataframe tbody tr th {\n",
       "        vertical-align: top;\n",
       "    }\n",
       "\n",
       "    .dataframe thead th {\n",
       "        text-align: right;\n",
       "    }\n",
       "</style>\n",
       "<table border=\"1\" class=\"dataframe\">\n",
       "  <thead>\n",
       "    <tr style=\"text-align: right;\">\n",
       "      <th></th>\n",
       "      <th>OrderID</th>\n",
       "      <th>CustomerID</th>\n",
       "      <th>StoreID</th>\n",
       "      <th>OrderDate</th>\n",
       "      <th>DeliveryDate</th>\n",
       "    </tr>\n",
       "  </thead>\n",
       "  <tbody>\n",
       "  </tbody>\n",
       "</table>\n",
       "</div>"
      ],
      "text/plain": [
       "Empty DataFrame\n",
       "Columns: [OrderID, CustomerID, StoreID, OrderDate, DeliveryDate]\n",
       "Index: []"
      ]
     },
     "execution_count": 212,
     "metadata": {},
     "output_type": "execute_result"
    }
   ],
   "source": [
    "order_df[order_df.duplicated()]"
   ]
  },
  {
   "cell_type": "code",
   "execution_count": 213,
   "id": "0c1d989d-d99e-451f-a80c-9077c701677d",
   "metadata": {},
   "outputs": [
    {
     "name": "stdout",
     "output_type": "stream",
     "text": [
      "Features: ['OrderID', 'CustomerID', 'StoreID', 'OrderDate', 'DeliveryDate']\n",
      "Missing Values: 20746\n",
      "Unique Values: \n",
      "\n",
      "OrderID         26326\n",
      "CustomerID      11887\n",
      "StoreID            57\n",
      "OrderDate        1641\n",
      "DeliveryDate     1492\n",
      "dtype: int64\n"
     ]
    }
   ],
   "source": [
    "print(f'Features: {order_df.columns.tolist()}')\n",
    "print(f'Missing Values: {order_df.isnull().values.sum()}')\n",
    "print(f'Unique Values: \\n\\n{order_df.nunique()}')"
   ]
  },
  {
   "cell_type": "code",
   "execution_count": 214,
   "id": "932789d4-7522-41fc-8ed8-84c8ccff4b90",
   "metadata": {},
   "outputs": [],
   "source": [
    "# order_item_df"
   ]
  },
  {
   "cell_type": "code",
   "execution_count": 215,
   "id": "569fabec-2047-49ac-8e9e-77f30b5ec51b",
   "metadata": {},
   "outputs": [
    {
     "data": {
      "text/html": [
       "<div>\n",
       "<style scoped>\n",
       "    .dataframe tbody tr th:only-of-type {\n",
       "        vertical-align: middle;\n",
       "    }\n",
       "\n",
       "    .dataframe tbody tr th {\n",
       "        vertical-align: top;\n",
       "    }\n",
       "\n",
       "    .dataframe thead th {\n",
       "        text-align: right;\n",
       "    }\n",
       "</style>\n",
       "<table border=\"1\" class=\"dataframe\">\n",
       "  <thead>\n",
       "    <tr style=\"text-align: right;\">\n",
       "      <th></th>\n",
       "      <th>OrderNumber</th>\n",
       "      <th>LineItem</th>\n",
       "      <th>ProductID</th>\n",
       "      <th>Quantity</th>\n",
       "      <th>ProductCost</th>\n",
       "      <th>ProductPrice</th>\n",
       "    </tr>\n",
       "  </thead>\n",
       "  <tbody>\n",
       "    <tr>\n",
       "      <th>0</th>\n",
       "      <td>366000</td>\n",
       "      <td>1</td>\n",
       "      <td>1304</td>\n",
       "      <td>1</td>\n",
       "      <td>31.27</td>\n",
       "      <td>68.00</td>\n",
       "    </tr>\n",
       "    <tr>\n",
       "      <th>1</th>\n",
       "      <td>366001</td>\n",
       "      <td>1</td>\n",
       "      <td>1048</td>\n",
       "      <td>2</td>\n",
       "      <td>141.47</td>\n",
       "      <td>427.00</td>\n",
       "    </tr>\n",
       "    <tr>\n",
       "      <th>2</th>\n",
       "      <td>366001</td>\n",
       "      <td>2</td>\n",
       "      <td>2007</td>\n",
       "      <td>1</td>\n",
       "      <td>220.64</td>\n",
       "      <td>665.94</td>\n",
       "    </tr>\n",
       "    <tr>\n",
       "      <th>3</th>\n",
       "      <td>366002</td>\n",
       "      <td>1</td>\n",
       "      <td>1106</td>\n",
       "      <td>7</td>\n",
       "      <td>148.08</td>\n",
       "      <td>322.00</td>\n",
       "    </tr>\n",
       "    <tr>\n",
       "      <th>4</th>\n",
       "      <td>366002</td>\n",
       "      <td>2</td>\n",
       "      <td>373</td>\n",
       "      <td>1</td>\n",
       "      <td>166.20</td>\n",
       "      <td>326.00</td>\n",
       "    </tr>\n",
       "  </tbody>\n",
       "</table>\n",
       "</div>"
      ],
      "text/plain": [
       "   OrderNumber  LineItem  ProductID  Quantity  ProductCost  ProductPrice\n",
       "0       366000         1       1304         1        31.27         68.00\n",
       "1       366001         1       1048         2       141.47        427.00\n",
       "2       366001         2       2007         1       220.64        665.94\n",
       "3       366002         1       1106         7       148.08        322.00\n",
       "4       366002         2        373         1       166.20        326.00"
      ]
     },
     "execution_count": 215,
     "metadata": {},
     "output_type": "execute_result"
    }
   ],
   "source": [
    "order_item_df.head()"
   ]
  },
  {
   "cell_type": "code",
   "execution_count": 216,
   "id": "f7465632-6e25-4f71-b363-e8eec409772f",
   "metadata": {},
   "outputs": [
    {
     "data": {
      "text/plain": [
       "OrderNumber       int64\n",
       "LineItem          int64\n",
       "ProductID         int64\n",
       "Quantity          int64\n",
       "ProductCost     float64\n",
       "ProductPrice    float64\n",
       "dtype: object"
      ]
     },
     "execution_count": 216,
     "metadata": {},
     "output_type": "execute_result"
    }
   ],
   "source": [
    "order_item_df.dtypes"
   ]
  },
  {
   "cell_type": "code",
   "execution_count": 217,
   "id": "4e46cb62-296c-4855-9d2c-901319e2afab",
   "metadata": {},
   "outputs": [
    {
     "name": "stdout",
     "output_type": "stream",
     "text": [
      "The number of rows are: 62884\n",
      "The number of columns are: 6\n"
     ]
    }
   ],
   "source": [
    "print (\"The number of rows are:\", order_item_df.shape[0])\n",
    "print (\"The number of columns are:\", order_item_df.shape[1])"
   ]
  },
  {
   "cell_type": "code",
   "execution_count": 218,
   "id": "0b7fea77-28b8-4b0f-80e3-5b43e0cebb66",
   "metadata": {},
   "outputs": [
    {
     "name": "stdout",
     "output_type": "stream",
     "text": [
      "<class 'pandas.core.frame.DataFrame'>\n",
      "RangeIndex: 62884 entries, 0 to 62883\n",
      "Data columns (total 6 columns):\n",
      " #   Column        Non-Null Count  Dtype  \n",
      "---  ------        --------------  -----  \n",
      " 0   OrderNumber   62884 non-null  int64  \n",
      " 1   LineItem      62884 non-null  int64  \n",
      " 2   ProductID     62884 non-null  int64  \n",
      " 3   Quantity      62884 non-null  int64  \n",
      " 4   ProductCost   62884 non-null  float64\n",
      " 5   ProductPrice  62884 non-null  float64\n",
      "dtypes: float64(2), int64(4)\n",
      "memory usage: 2.9 MB\n"
     ]
    }
   ],
   "source": [
    "order_item_df.info()"
   ]
  },
  {
   "cell_type": "code",
   "execution_count": 219,
   "id": "36452c34-e95e-46c1-9235-916ed103dc73",
   "metadata": {},
   "outputs": [
    {
     "data": {
      "text/html": [
       "<div>\n",
       "<style scoped>\n",
       "    .dataframe tbody tr th:only-of-type {\n",
       "        vertical-align: middle;\n",
       "    }\n",
       "\n",
       "    .dataframe tbody tr th {\n",
       "        vertical-align: top;\n",
       "    }\n",
       "\n",
       "    .dataframe thead th {\n",
       "        text-align: right;\n",
       "    }\n",
       "</style>\n",
       "<table border=\"1\" class=\"dataframe\">\n",
       "  <thead>\n",
       "    <tr style=\"text-align: right;\">\n",
       "      <th></th>\n",
       "      <th>OrderNumber</th>\n",
       "      <th>LineItem</th>\n",
       "      <th>ProductID</th>\n",
       "      <th>Quantity</th>\n",
       "      <th>ProductCost</th>\n",
       "      <th>ProductPrice</th>\n",
       "    </tr>\n",
       "  </thead>\n",
       "  <tbody>\n",
       "    <tr>\n",
       "      <th>count</th>\n",
       "      <td>6.288400e+04</td>\n",
       "      <td>62884.000000</td>\n",
       "      <td>62884.000000</td>\n",
       "      <td>62884.000000</td>\n",
       "      <td>62884.000000</td>\n",
       "      <td>62884.000000</td>\n",
       "    </tr>\n",
       "    <tr>\n",
       "      <th>mean</th>\n",
       "      <td>1.430905e+06</td>\n",
       "      <td>2.164207</td>\n",
       "      <td>1125.859344</td>\n",
       "      <td>3.144790</td>\n",
       "      <td>116.253013</td>\n",
       "      <td>280.569848</td>\n",
       "    </tr>\n",
       "    <tr>\n",
       "      <th>std</th>\n",
       "      <td>4.532963e+05</td>\n",
       "      <td>1.365170</td>\n",
       "      <td>709.244010</td>\n",
       "      <td>2.256371</td>\n",
       "      <td>140.033327</td>\n",
       "      <td>382.827515</td>\n",
       "    </tr>\n",
       "    <tr>\n",
       "      <th>min</th>\n",
       "      <td>3.660000e+05</td>\n",
       "      <td>1.000000</td>\n",
       "      <td>1.000000</td>\n",
       "      <td>1.000000</td>\n",
       "      <td>0.480000</td>\n",
       "      <td>0.950000</td>\n",
       "    </tr>\n",
       "    <tr>\n",
       "      <th>25%</th>\n",
       "      <td>1.121017e+06</td>\n",
       "      <td>1.000000</td>\n",
       "      <td>437.000000</td>\n",
       "      <td>1.000000</td>\n",
       "      <td>22.050000</td>\n",
       "      <td>47.950000</td>\n",
       "    </tr>\n",
       "    <tr>\n",
       "      <th>50%</th>\n",
       "      <td>1.498016e+06</td>\n",
       "      <td>2.000000</td>\n",
       "      <td>1358.000000</td>\n",
       "      <td>2.000000</td>\n",
       "      <td>79.530000</td>\n",
       "      <td>181.000000</td>\n",
       "    </tr>\n",
       "    <tr>\n",
       "      <th>75%</th>\n",
       "      <td>1.788010e+06</td>\n",
       "      <td>3.000000</td>\n",
       "      <td>1650.000000</td>\n",
       "      <td>4.000000</td>\n",
       "      <td>138.420000</td>\n",
       "      <td>300.000000</td>\n",
       "    </tr>\n",
       "    <tr>\n",
       "      <th>max</th>\n",
       "      <td>2.243032e+06</td>\n",
       "      <td>7.000000</td>\n",
       "      <td>2517.000000</td>\n",
       "      <td>10.000000</td>\n",
       "      <td>1060.220000</td>\n",
       "      <td>3199.990000</td>\n",
       "    </tr>\n",
       "  </tbody>\n",
       "</table>\n",
       "</div>"
      ],
      "text/plain": [
       "        OrderNumber      LineItem     ProductID      Quantity   ProductCost  \\\n",
       "count  6.288400e+04  62884.000000  62884.000000  62884.000000  62884.000000   \n",
       "mean   1.430905e+06      2.164207   1125.859344      3.144790    116.253013   \n",
       "std    4.532963e+05      1.365170    709.244010      2.256371    140.033327   \n",
       "min    3.660000e+05      1.000000      1.000000      1.000000      0.480000   \n",
       "25%    1.121017e+06      1.000000    437.000000      1.000000     22.050000   \n",
       "50%    1.498016e+06      2.000000   1358.000000      2.000000     79.530000   \n",
       "75%    1.788010e+06      3.000000   1650.000000      4.000000    138.420000   \n",
       "max    2.243032e+06      7.000000   2517.000000     10.000000   1060.220000   \n",
       "\n",
       "       ProductPrice  \n",
       "count  62884.000000  \n",
       "mean     280.569848  \n",
       "std      382.827515  \n",
       "min        0.950000  \n",
       "25%       47.950000  \n",
       "50%      181.000000  \n",
       "75%      300.000000  \n",
       "max     3199.990000  "
      ]
     },
     "execution_count": 219,
     "metadata": {},
     "output_type": "execute_result"
    }
   ],
   "source": [
    "order_item_df.describe()"
   ]
  },
  {
   "cell_type": "code",
   "execution_count": 220,
   "id": "60d4a8f8-4695-40ed-a77a-a629efa6ccc0",
   "metadata": {},
   "outputs": [
    {
     "data": {
      "text/plain": [
       "OrderNumber     0\n",
       "LineItem        0\n",
       "ProductID       0\n",
       "Quantity        0\n",
       "ProductCost     0\n",
       "ProductPrice    0\n",
       "dtype: int64"
      ]
     },
     "execution_count": 220,
     "metadata": {},
     "output_type": "execute_result"
    }
   ],
   "source": [
    "order_item_df.isna().sum()"
   ]
  },
  {
   "cell_type": "code",
   "execution_count": 221,
   "id": "8c150fc3-7159-4b4e-aa83-5bcff437c6a6",
   "metadata": {},
   "outputs": [
    {
     "data": {
      "text/html": [
       "<div>\n",
       "<style scoped>\n",
       "    .dataframe tbody tr th:only-of-type {\n",
       "        vertical-align: middle;\n",
       "    }\n",
       "\n",
       "    .dataframe tbody tr th {\n",
       "        vertical-align: top;\n",
       "    }\n",
       "\n",
       "    .dataframe thead th {\n",
       "        text-align: right;\n",
       "    }\n",
       "</style>\n",
       "<table border=\"1\" class=\"dataframe\">\n",
       "  <thead>\n",
       "    <tr style=\"text-align: right;\">\n",
       "      <th></th>\n",
       "      <th>OrderNumber</th>\n",
       "      <th>LineItem</th>\n",
       "      <th>ProductID</th>\n",
       "      <th>Quantity</th>\n",
       "      <th>ProductCost</th>\n",
       "      <th>ProductPrice</th>\n",
       "    </tr>\n",
       "  </thead>\n",
       "  <tbody>\n",
       "  </tbody>\n",
       "</table>\n",
       "</div>"
      ],
      "text/plain": [
       "Empty DataFrame\n",
       "Columns: [OrderNumber, LineItem, ProductID, Quantity, ProductCost, ProductPrice]\n",
       "Index: []"
      ]
     },
     "execution_count": 221,
     "metadata": {},
     "output_type": "execute_result"
    }
   ],
   "source": [
    "order_item_df[order_item_df.duplicated()]"
   ]
  },
  {
   "cell_type": "code",
   "execution_count": 222,
   "id": "3ccd835d-eea7-4afc-bab2-29f77ec8c5c6",
   "metadata": {},
   "outputs": [
    {
     "name": "stdout",
     "output_type": "stream",
     "text": [
      "Features: ['OrderNumber', 'LineItem', 'ProductID', 'Quantity', 'ProductCost', 'ProductPrice']\n",
      "Missing Values: 0\n",
      "Unique Values: \n",
      "\n",
      "OrderNumber     26326\n",
      "LineItem            7\n",
      "ProductID        2492\n",
      "Quantity           10\n",
      "ProductCost       480\n",
      "ProductPrice      426\n",
      "dtype: int64\n"
     ]
    }
   ],
   "source": [
    "print(f'Features: {order_item_df.columns.tolist()}')\n",
    "print(f'Missing Values: {order_item_df.isnull().values.sum()}')\n",
    "print(f'Unique Values: \\n\\n{order_item_df.nunique()}')"
   ]
  },
  {
   "cell_type": "markdown",
   "id": "0abf5187-ba02-4eb6-9aa6-836e146c9af9",
   "metadata": {},
   "source": [
    "### Rename columns"
   ]
  },
  {
   "cell_type": "code",
   "execution_count": 223,
   "id": "833a10cf-5580-4b14-89e1-857c40344acf",
   "metadata": {},
   "outputs": [
    {
     "data": {
      "text/plain": [
       "Index(['OrderNumber', 'LineItem', 'ProductID', 'Quantity', 'ProductCost',\n",
       "       'ProductPrice'],\n",
       "      dtype='object')"
      ]
     },
     "execution_count": 223,
     "metadata": {},
     "output_type": "execute_result"
    }
   ],
   "source": [
    "order_item_df.columns"
   ]
  },
  {
   "cell_type": "code",
   "execution_count": 224,
   "id": "63541b57-8cbd-4492-97ce-a18fb57ed31f",
   "metadata": {},
   "outputs": [],
   "source": [
    "# Renaming columns\n",
    "customer_df.rename(columns={'CustomerID': 'id', 'CustomerGender': 'gender', 'CustomerName': 'name',\n",
    "                            'CustomerCity': 'city', 'CustomerStateCode' :'state_code', 'CustomerState': 'state',\n",
    "                            'CustomerZip': 'zip', 'CustomerCountry': 'country', 'CustomerContinent': 'continent',\n",
    "                            'CustomerDOB': 'dob'}, inplace=True)"
   ]
  },
  {
   "cell_type": "code",
   "execution_count": 225,
   "id": "040ed521-dbb8-43e3-b991-4cef81fcbda6",
   "metadata": {},
   "outputs": [],
   "source": [
    "# Renaming store columns\n",
    "store_df.rename(columns={'StoreID': 'id', 'StoreCountry': 'country', 'StoreState': 'state',\n",
    "                            'StoreSqMeters': 'sq_meters', 'StoreOpenDate': 'open_date'}, inplace=True)"
   ]
  },
  {
   "cell_type": "code",
   "execution_count": 226,
   "id": "c2f72cb4-7665-4295-ad7c-e61484af954a",
   "metadata": {},
   "outputs": [],
   "source": [
    "# Renaming columns\n",
    "product_df.rename(columns={'ProductID': 'id','ProductName': 'name', 'ProductBrand': 'brand',\n",
    "                           'ProductCost': 'cost', 'ProductColor' : 'color', 'ProductPrice': 'price',\n",
    "                           'ProductSubcategoryID' :'subcategory_id'}, inplace=True)"
   ]
  },
  {
   "cell_type": "code",
   "execution_count": 227,
   "id": "24dbb127-b793-4bd5-96f8-35bfe4b8dbc5",
   "metadata": {},
   "outputs": [],
   "source": [
    "# Renaming columns\n",
    "product_subcategory_df.rename(columns={'ProductSubcategoryID': 'id', 'ProductSubcategory': 'category',\n",
    "                            'ProductCategoryID': 'category_id'}, inplace=True)"
   ]
  },
  {
   "cell_type": "code",
   "execution_count": 228,
   "id": "578722d0-ed1a-4036-9fa0-d5c8217eddc5",
   "metadata": {},
   "outputs": [],
   "source": [
    "# Renaming columns\n",
    "product_category_df.rename(columns={'ProductCategoryID': 'id', 'ProductCategory': 'category'}, inplace=True)"
   ]
  },
  {
   "cell_type": "code",
   "execution_count": 229,
   "id": "a899d861-6afe-4a84-847c-5479c3562d8f",
   "metadata": {},
   "outputs": [],
   "source": [
    "# Renaming columns\n",
    "order_df.rename(columns={'OrderID': 'id', 'CustomerID': 'customer_id', 'StoreID': 'store_id',\n",
    "                            'OrderDate': 'order_date', 'DeliveryDate': 'delivery_date'}, inplace=True)"
   ]
  },
  {
   "cell_type": "code",
   "execution_count": 230,
   "id": "f5c89376-702d-4471-bfe2-2a4c2e02a8ff",
   "metadata": {},
   "outputs": [],
   "source": [
    "# Renaming columns\n",
    "order_item_df.rename(columns={'OrderNumber': 'order_id', 'LineItem': 'line_item', 'ProductID': 'product_id',\n",
    "                            'Quantity': 'quantity', 'ProductCost' :'product_cost', 'ProductPrice': 'product_price'}\n",
    "                     , inplace=True)"
   ]
  },
  {
   "cell_type": "markdown",
   "id": "1f20ad74-92c4-4acc-8c39-65d40e012396",
   "metadata": {},
   "source": [
    "### Cleaning names"
   ]
  },
  {
   "cell_type": "code",
   "execution_count": 231,
   "id": "e107ef49-203a-4770-8dd3-bab6217a39cd",
   "metadata": {},
   "outputs": [],
   "source": [
    "import re\n",
    "\n",
    "# Function to clean names\n",
    "def clean_name(name):\n",
    "    # Remove leading and trailing spaces, underscores, hyphens, and slashes\n",
    "    name = re.sub(r'^[\\s\\-_\\/]+|[\\s\\-_\\/]+$', '', name)\n",
    "    # Remove numbers\n",
    "    name = re.sub(r'\\d+', '', name)\n",
    "    # Replace any remaining underscores, hyphens, or slashes with a space\n",
    "    name = re.sub(r'[\\-_\\/]', ' ', name)\n",
    "    # Remove extra spaces\n",
    "    name = re.sub(r'\\s+', ' ', name)\n",
    "    return name.strip()"
   ]
  },
  {
   "cell_type": "code",
   "execution_count": 232,
   "id": "9b020c68-d57a-4042-ba81-b772a621e7a7",
   "metadata": {},
   "outputs": [
    {
     "data": {
      "text/html": [
       "<div>\n",
       "<style scoped>\n",
       "    .dataframe tbody tr th:only-of-type {\n",
       "        vertical-align: middle;\n",
       "    }\n",
       "\n",
       "    .dataframe tbody tr th {\n",
       "        vertical-align: top;\n",
       "    }\n",
       "\n",
       "    .dataframe thead th {\n",
       "        text-align: right;\n",
       "    }\n",
       "</style>\n",
       "<table border=\"1\" class=\"dataframe\">\n",
       "  <thead>\n",
       "    <tr style=\"text-align: right;\">\n",
       "      <th></th>\n",
       "      <th>id</th>\n",
       "      <th>gender</th>\n",
       "      <th>name</th>\n",
       "      <th>city</th>\n",
       "      <th>state_code</th>\n",
       "      <th>state</th>\n",
       "      <th>zip</th>\n",
       "      <th>country</th>\n",
       "      <th>continent</th>\n",
       "      <th>dob</th>\n",
       "    </tr>\n",
       "  </thead>\n",
       "  <tbody>\n",
       "    <tr>\n",
       "      <th>0</th>\n",
       "      <td>265598</td>\n",
       "      <td>Male</td>\n",
       "      <td>Tyler Vaught</td>\n",
       "      <td>London</td>\n",
       "      <td>ON</td>\n",
       "      <td>Ontario</td>\n",
       "      <td>N5W 5K6</td>\n",
       "      <td>Canada</td>\n",
       "      <td>North America</td>\n",
       "      <td>1971-03-23</td>\n",
       "    </tr>\n",
       "    <tr>\n",
       "      <th>1</th>\n",
       "      <td>1269051</td>\n",
       "      <td>Male</td>\n",
       "      <td>Frank Upchurch</td>\n",
       "      <td>Auberry</td>\n",
       "      <td>CA</td>\n",
       "      <td>California</td>\n",
       "      <td>93602</td>\n",
       "      <td>United States</td>\n",
       "      <td>North America</td>\n",
       "      <td>1995-11-20</td>\n",
       "    </tr>\n",
       "    <tr>\n",
       "      <th>2</th>\n",
       "      <td>266019</td>\n",
       "      <td>Female</td>\n",
       "      <td>Joan Roche</td>\n",
       "      <td>Red Deer</td>\n",
       "      <td>AB</td>\n",
       "      <td>Alberta</td>\n",
       "      <td>T4N 2A6</td>\n",
       "      <td>Canada</td>\n",
       "      <td>North America</td>\n",
       "      <td>1962-08-24</td>\n",
       "    </tr>\n",
       "    <tr>\n",
       "      <th>3</th>\n",
       "      <td>1107461</td>\n",
       "      <td>Male</td>\n",
       "      <td>Sam Nelson</td>\n",
       "      <td>BURSCOUGH BRIDGE</td>\n",
       "      <td>West Lancashire</td>\n",
       "      <td>West Lancashire</td>\n",
       "      <td>L40 8UX</td>\n",
       "      <td>United Kingdom</td>\n",
       "      <td>Europe</td>\n",
       "      <td>1979-11-28</td>\n",
       "    </tr>\n",
       "    <tr>\n",
       "      <th>4</th>\n",
       "      <td>844003</td>\n",
       "      <td>Male</td>\n",
       "      <td>Ouassim Heuver</td>\n",
       "      <td>Leeuwarden</td>\n",
       "      <td>FR</td>\n",
       "      <td>Friesland</td>\n",
       "      <td>8916 CD</td>\n",
       "      <td>Netherlands</td>\n",
       "      <td>Europe</td>\n",
       "      <td>1995-06-22</td>\n",
       "    </tr>\n",
       "  </tbody>\n",
       "</table>\n",
       "</div>"
      ],
      "text/plain": [
       "        id  gender            name              city       state_code  \\\n",
       "0   265598    Male    Tyler Vaught            London               ON   \n",
       "1  1269051    Male  Frank Upchurch           Auberry               CA   \n",
       "2   266019  Female      Joan Roche          Red Deer               AB   \n",
       "3  1107461    Male      Sam Nelson  BURSCOUGH BRIDGE  West Lancashire   \n",
       "4   844003    Male  Ouassim Heuver        Leeuwarden               FR   \n",
       "\n",
       "             state      zip         country      continent        dob  \n",
       "0          Ontario  N5W 5K6          Canada  North America 1971-03-23  \n",
       "1       California    93602   United States  North America 1995-11-20  \n",
       "2          Alberta  T4N 2A6          Canada  North America 1962-08-24  \n",
       "3  West Lancashire  L40 8UX  United Kingdom         Europe 1979-11-28  \n",
       "4        Friesland  8916 CD     Netherlands         Europe 1995-06-22  "
      ]
     },
     "execution_count": 232,
     "metadata": {},
     "output_type": "execute_result"
    }
   ],
   "source": [
    "# Apply the function to the 'names' column\n",
    "customer_df['name'] = customer_df['name'].apply(clean_name)\n",
    "customer_df.head()"
   ]
  },
  {
   "cell_type": "code",
   "execution_count": 233,
   "id": "f74e132a-becd-4372-9643-9a230155215d",
   "metadata": {},
   "outputs": [],
   "source": [
    "# Making all zips into upper case"
   ]
  },
  {
   "cell_type": "code",
   "execution_count": 234,
   "id": "07c5ebcf-a5cf-451a-a7db-93c50ab47765",
   "metadata": {},
   "outputs": [],
   "source": [
    "def convert_to_uppercase_with_numbers(df, column_name):\n",
    "    \"\"\"\n",
    "    Converts a column to uppercase while preserving numbers.\n",
    "\n",
    "    Args:\n",
    "        df (pd.DataFrame): The DataFrame to modify.\n",
    "        column_name (str): The name of the column to convert.\n",
    "\n",
    "    Returns:\n",
    "        The modified DataFrame.\n",
    "    \"\"\"\n",
    "\n",
    "    # Use a regular expression to replace lowercase letters with uppercase\n",
    "    df[column_name] = df[column_name].astype(str).str.replace(r'[a-z]', lambda x: x.group().upper(), regex=True)\n",
    "    return df"
   ]
  },
  {
   "cell_type": "code",
   "execution_count": 235,
   "id": "ee2cf30e-efd7-4450-a3e1-012b9985f4f8",
   "metadata": {},
   "outputs": [],
   "source": [
    "customer_df = convert_to_uppercase_with_numbers(customer_df, 'zip')"
   ]
  },
  {
   "cell_type": "code",
   "execution_count": 236,
   "id": "39bde9d5-14f3-4a3e-b04f-5333a8df61e8",
   "metadata": {},
   "outputs": [
    {
     "data": {
      "text/html": [
       "<div>\n",
       "<style scoped>\n",
       "    .dataframe tbody tr th:only-of-type {\n",
       "        vertical-align: middle;\n",
       "    }\n",
       "\n",
       "    .dataframe tbody tr th {\n",
       "        vertical-align: top;\n",
       "    }\n",
       "\n",
       "    .dataframe thead th {\n",
       "        text-align: right;\n",
       "    }\n",
       "</style>\n",
       "<table border=\"1\" class=\"dataframe\">\n",
       "  <thead>\n",
       "    <tr style=\"text-align: right;\">\n",
       "      <th></th>\n",
       "      <th>id</th>\n",
       "      <th>gender</th>\n",
       "      <th>name</th>\n",
       "      <th>city</th>\n",
       "      <th>state_code</th>\n",
       "      <th>state</th>\n",
       "      <th>zip</th>\n",
       "      <th>country</th>\n",
       "      <th>continent</th>\n",
       "      <th>dob</th>\n",
       "    </tr>\n",
       "  </thead>\n",
       "  <tbody>\n",
       "    <tr>\n",
       "      <th>0</th>\n",
       "      <td>265598</td>\n",
       "      <td>Male</td>\n",
       "      <td>Tyler Vaught</td>\n",
       "      <td>London</td>\n",
       "      <td>ON</td>\n",
       "      <td>Ontario</td>\n",
       "      <td>N5W 5K6</td>\n",
       "      <td>Canada</td>\n",
       "      <td>North America</td>\n",
       "      <td>1971-03-23</td>\n",
       "    </tr>\n",
       "    <tr>\n",
       "      <th>1</th>\n",
       "      <td>1269051</td>\n",
       "      <td>Male</td>\n",
       "      <td>Frank Upchurch</td>\n",
       "      <td>Auberry</td>\n",
       "      <td>CA</td>\n",
       "      <td>California</td>\n",
       "      <td>93602</td>\n",
       "      <td>United States</td>\n",
       "      <td>North America</td>\n",
       "      <td>1995-11-20</td>\n",
       "    </tr>\n",
       "    <tr>\n",
       "      <th>2</th>\n",
       "      <td>266019</td>\n",
       "      <td>Female</td>\n",
       "      <td>Joan Roche</td>\n",
       "      <td>Red Deer</td>\n",
       "      <td>AB</td>\n",
       "      <td>Alberta</td>\n",
       "      <td>T4N 2A6</td>\n",
       "      <td>Canada</td>\n",
       "      <td>North America</td>\n",
       "      <td>1962-08-24</td>\n",
       "    </tr>\n",
       "    <tr>\n",
       "      <th>3</th>\n",
       "      <td>1107461</td>\n",
       "      <td>Male</td>\n",
       "      <td>Sam Nelson</td>\n",
       "      <td>BURSCOUGH BRIDGE</td>\n",
       "      <td>West Lancashire</td>\n",
       "      <td>West Lancashire</td>\n",
       "      <td>L40 8UX</td>\n",
       "      <td>United Kingdom</td>\n",
       "      <td>Europe</td>\n",
       "      <td>1979-11-28</td>\n",
       "    </tr>\n",
       "    <tr>\n",
       "      <th>4</th>\n",
       "      <td>844003</td>\n",
       "      <td>Male</td>\n",
       "      <td>Ouassim Heuver</td>\n",
       "      <td>Leeuwarden</td>\n",
       "      <td>FR</td>\n",
       "      <td>Friesland</td>\n",
       "      <td>8916 CD</td>\n",
       "      <td>Netherlands</td>\n",
       "      <td>Europe</td>\n",
       "      <td>1995-06-22</td>\n",
       "    </tr>\n",
       "  </tbody>\n",
       "</table>\n",
       "</div>"
      ],
      "text/plain": [
       "        id  gender            name              city       state_code  \\\n",
       "0   265598    Male    Tyler Vaught            London               ON   \n",
       "1  1269051    Male  Frank Upchurch           Auberry               CA   \n",
       "2   266019  Female      Joan Roche          Red Deer               AB   \n",
       "3  1107461    Male      Sam Nelson  BURSCOUGH BRIDGE  West Lancashire   \n",
       "4   844003    Male  Ouassim Heuver        Leeuwarden               FR   \n",
       "\n",
       "             state      zip         country      continent        dob  \n",
       "0          Ontario  N5W 5K6          Canada  North America 1971-03-23  \n",
       "1       California    93602   United States  North America 1995-11-20  \n",
       "2          Alberta  T4N 2A6          Canada  North America 1962-08-24  \n",
       "3  West Lancashire  L40 8UX  United Kingdom         Europe 1979-11-28  \n",
       "4        Friesland  8916 CD     Netherlands         Europe 1995-06-22  "
      ]
     },
     "execution_count": 236,
     "metadata": {},
     "output_type": "execute_result"
    }
   ],
   "source": [
    "customer_df.head()"
   ]
  },
  {
   "cell_type": "code",
   "execution_count": 237,
   "id": "9d92a1c0-4819-45aa-a243-0e60c9dcb558",
   "metadata": {},
   "outputs": [],
   "source": [
    "# Making other columns into title case"
   ]
  },
  {
   "cell_type": "code",
   "execution_count": 238,
   "id": "9ca44d0e-ec9f-4f42-a77b-71aa652cb49c",
   "metadata": {},
   "outputs": [],
   "source": [
    "customer_df[['name', 'city', 'state', 'country', 'continent']] = customer_df[['name', 'city', 'state', 'country','continent']].apply(lambda x: x.str.title())"
   ]
  },
  {
   "cell_type": "code",
   "execution_count": 239,
   "id": "0bd6a873-a037-4d7f-a79a-7f25c53f236e",
   "metadata": {},
   "outputs": [
    {
     "data": {
      "text/html": [
       "<div>\n",
       "<style scoped>\n",
       "    .dataframe tbody tr th:only-of-type {\n",
       "        vertical-align: middle;\n",
       "    }\n",
       "\n",
       "    .dataframe tbody tr th {\n",
       "        vertical-align: top;\n",
       "    }\n",
       "\n",
       "    .dataframe thead th {\n",
       "        text-align: right;\n",
       "    }\n",
       "</style>\n",
       "<table border=\"1\" class=\"dataframe\">\n",
       "  <thead>\n",
       "    <tr style=\"text-align: right;\">\n",
       "      <th></th>\n",
       "      <th>id</th>\n",
       "      <th>gender</th>\n",
       "      <th>name</th>\n",
       "      <th>city</th>\n",
       "      <th>state_code</th>\n",
       "      <th>state</th>\n",
       "      <th>zip</th>\n",
       "      <th>country</th>\n",
       "      <th>continent</th>\n",
       "      <th>dob</th>\n",
       "    </tr>\n",
       "  </thead>\n",
       "  <tbody>\n",
       "    <tr>\n",
       "      <th>0</th>\n",
       "      <td>265598</td>\n",
       "      <td>Male</td>\n",
       "      <td>Tyler Vaught</td>\n",
       "      <td>London</td>\n",
       "      <td>ON</td>\n",
       "      <td>Ontario</td>\n",
       "      <td>N5W 5K6</td>\n",
       "      <td>Canada</td>\n",
       "      <td>North America</td>\n",
       "      <td>1971-03-23</td>\n",
       "    </tr>\n",
       "    <tr>\n",
       "      <th>1</th>\n",
       "      <td>1269051</td>\n",
       "      <td>Male</td>\n",
       "      <td>Frank Upchurch</td>\n",
       "      <td>Auberry</td>\n",
       "      <td>CA</td>\n",
       "      <td>California</td>\n",
       "      <td>93602</td>\n",
       "      <td>United States</td>\n",
       "      <td>North America</td>\n",
       "      <td>1995-11-20</td>\n",
       "    </tr>\n",
       "    <tr>\n",
       "      <th>2</th>\n",
       "      <td>266019</td>\n",
       "      <td>Female</td>\n",
       "      <td>Joan Roche</td>\n",
       "      <td>Red Deer</td>\n",
       "      <td>AB</td>\n",
       "      <td>Alberta</td>\n",
       "      <td>T4N 2A6</td>\n",
       "      <td>Canada</td>\n",
       "      <td>North America</td>\n",
       "      <td>1962-08-24</td>\n",
       "    </tr>\n",
       "    <tr>\n",
       "      <th>3</th>\n",
       "      <td>1107461</td>\n",
       "      <td>Male</td>\n",
       "      <td>Sam Nelson</td>\n",
       "      <td>Burscough Bridge</td>\n",
       "      <td>West Lancashire</td>\n",
       "      <td>West Lancashire</td>\n",
       "      <td>L40 8UX</td>\n",
       "      <td>United Kingdom</td>\n",
       "      <td>Europe</td>\n",
       "      <td>1979-11-28</td>\n",
       "    </tr>\n",
       "    <tr>\n",
       "      <th>4</th>\n",
       "      <td>844003</td>\n",
       "      <td>Male</td>\n",
       "      <td>Ouassim Heuver</td>\n",
       "      <td>Leeuwarden</td>\n",
       "      <td>FR</td>\n",
       "      <td>Friesland</td>\n",
       "      <td>8916 CD</td>\n",
       "      <td>Netherlands</td>\n",
       "      <td>Europe</td>\n",
       "      <td>1995-06-22</td>\n",
       "    </tr>\n",
       "  </tbody>\n",
       "</table>\n",
       "</div>"
      ],
      "text/plain": [
       "        id  gender            name              city       state_code  \\\n",
       "0   265598    Male    Tyler Vaught            London               ON   \n",
       "1  1269051    Male  Frank Upchurch           Auberry               CA   \n",
       "2   266019  Female      Joan Roche          Red Deer               AB   \n",
       "3  1107461    Male      Sam Nelson  Burscough Bridge  West Lancashire   \n",
       "4   844003    Male  Ouassim Heuver        Leeuwarden               FR   \n",
       "\n",
       "             state      zip         country      continent        dob  \n",
       "0          Ontario  N5W 5K6          Canada  North America 1971-03-23  \n",
       "1       California    93602   United States  North America 1995-11-20  \n",
       "2          Alberta  T4N 2A6          Canada  North America 1962-08-24  \n",
       "3  West Lancashire  L40 8UX  United Kingdom         Europe 1979-11-28  \n",
       "4        Friesland  8916 CD     Netherlands         Europe 1995-06-22  "
      ]
     },
     "execution_count": 239,
     "metadata": {},
     "output_type": "execute_result"
    }
   ],
   "source": [
    "customer_df.head()"
   ]
  },
  {
   "cell_type": "markdown",
   "id": "eb4dade9-61cd-446b-8f91-d1d6ba3fb3d8",
   "metadata": {},
   "source": [
    "### Cleaning redundant data"
   ]
  },
  {
   "cell_type": "code",
   "execution_count": 240,
   "id": "047920d3-ef8f-4619-816c-708fd8582cdc",
   "metadata": {},
   "outputs": [],
   "source": [
    "# Drop state_code from the customer_df"
   ]
  },
  {
   "cell_type": "code",
   "execution_count": 241,
   "id": "08def11b-0c9c-4e36-81cf-366351aab1d1",
   "metadata": {},
   "outputs": [],
   "source": [
    "customer_df.drop(['state_code'], axis=1, inplace= True)"
   ]
  },
  {
   "cell_type": "code",
   "execution_count": 242,
   "id": "9c38feed-7e68-4b80-9e3f-73cd27aecf7d",
   "metadata": {},
   "outputs": [
    {
     "data": {
      "text/html": [
       "<div>\n",
       "<style scoped>\n",
       "    .dataframe tbody tr th:only-of-type {\n",
       "        vertical-align: middle;\n",
       "    }\n",
       "\n",
       "    .dataframe tbody tr th {\n",
       "        vertical-align: top;\n",
       "    }\n",
       "\n",
       "    .dataframe thead th {\n",
       "        text-align: right;\n",
       "    }\n",
       "</style>\n",
       "<table border=\"1\" class=\"dataframe\">\n",
       "  <thead>\n",
       "    <tr style=\"text-align: right;\">\n",
       "      <th></th>\n",
       "      <th>id</th>\n",
       "      <th>gender</th>\n",
       "      <th>name</th>\n",
       "      <th>city</th>\n",
       "      <th>state</th>\n",
       "      <th>zip</th>\n",
       "      <th>country</th>\n",
       "      <th>continent</th>\n",
       "      <th>dob</th>\n",
       "    </tr>\n",
       "  </thead>\n",
       "  <tbody>\n",
       "    <tr>\n",
       "      <th>0</th>\n",
       "      <td>265598</td>\n",
       "      <td>Male</td>\n",
       "      <td>Tyler Vaught</td>\n",
       "      <td>London</td>\n",
       "      <td>Ontario</td>\n",
       "      <td>N5W 5K6</td>\n",
       "      <td>Canada</td>\n",
       "      <td>North America</td>\n",
       "      <td>1971-03-23</td>\n",
       "    </tr>\n",
       "    <tr>\n",
       "      <th>1</th>\n",
       "      <td>1269051</td>\n",
       "      <td>Male</td>\n",
       "      <td>Frank Upchurch</td>\n",
       "      <td>Auberry</td>\n",
       "      <td>California</td>\n",
       "      <td>93602</td>\n",
       "      <td>United States</td>\n",
       "      <td>North America</td>\n",
       "      <td>1995-11-20</td>\n",
       "    </tr>\n",
       "    <tr>\n",
       "      <th>2</th>\n",
       "      <td>266019</td>\n",
       "      <td>Female</td>\n",
       "      <td>Joan Roche</td>\n",
       "      <td>Red Deer</td>\n",
       "      <td>Alberta</td>\n",
       "      <td>T4N 2A6</td>\n",
       "      <td>Canada</td>\n",
       "      <td>North America</td>\n",
       "      <td>1962-08-24</td>\n",
       "    </tr>\n",
       "    <tr>\n",
       "      <th>3</th>\n",
       "      <td>1107461</td>\n",
       "      <td>Male</td>\n",
       "      <td>Sam Nelson</td>\n",
       "      <td>Burscough Bridge</td>\n",
       "      <td>West Lancashire</td>\n",
       "      <td>L40 8UX</td>\n",
       "      <td>United Kingdom</td>\n",
       "      <td>Europe</td>\n",
       "      <td>1979-11-28</td>\n",
       "    </tr>\n",
       "    <tr>\n",
       "      <th>4</th>\n",
       "      <td>844003</td>\n",
       "      <td>Male</td>\n",
       "      <td>Ouassim Heuver</td>\n",
       "      <td>Leeuwarden</td>\n",
       "      <td>Friesland</td>\n",
       "      <td>8916 CD</td>\n",
       "      <td>Netherlands</td>\n",
       "      <td>Europe</td>\n",
       "      <td>1995-06-22</td>\n",
       "    </tr>\n",
       "  </tbody>\n",
       "</table>\n",
       "</div>"
      ],
      "text/plain": [
       "        id  gender            name              city            state  \\\n",
       "0   265598    Male    Tyler Vaught            London          Ontario   \n",
       "1  1269051    Male  Frank Upchurch           Auberry       California   \n",
       "2   266019  Female      Joan Roche          Red Deer          Alberta   \n",
       "3  1107461    Male      Sam Nelson  Burscough Bridge  West Lancashire   \n",
       "4   844003    Male  Ouassim Heuver        Leeuwarden        Friesland   \n",
       "\n",
       "       zip         country      continent        dob  \n",
       "0  N5W 5K6          Canada  North America 1971-03-23  \n",
       "1    93602   United States  North America 1995-11-20  \n",
       "2  T4N 2A6          Canada  North America 1962-08-24  \n",
       "3  L40 8UX  United Kingdom         Europe 1979-11-28  \n",
       "4  8916 CD     Netherlands         Europe 1995-06-22  "
      ]
     },
     "execution_count": 242,
     "metadata": {},
     "output_type": "execute_result"
    }
   ],
   "source": [
    "customer_df.head()"
   ]
  },
  {
   "cell_type": "markdown",
   "id": "f43b2fdd-5f4b-4680-b9b2-48044641496a",
   "metadata": {},
   "source": [
    "## Save as csv"
   ]
  },
  {
   "cell_type": "code",
   "execution_count": 243,
   "id": "bfa2a15c-be0a-4d66-bda2-e0a1c50f0384",
   "metadata": {},
   "outputs": [
    {
     "data": {
      "text/html": [
       "<div>\n",
       "<style scoped>\n",
       "    .dataframe tbody tr th:only-of-type {\n",
       "        vertical-align: middle;\n",
       "    }\n",
       "\n",
       "    .dataframe tbody tr th {\n",
       "        vertical-align: top;\n",
       "    }\n",
       "\n",
       "    .dataframe thead th {\n",
       "        text-align: right;\n",
       "    }\n",
       "</style>\n",
       "<table border=\"1\" class=\"dataframe\">\n",
       "  <thead>\n",
       "    <tr style=\"text-align: right;\">\n",
       "      <th></th>\n",
       "      <th>order_id</th>\n",
       "      <th>line_item</th>\n",
       "      <th>product_id</th>\n",
       "      <th>quantity</th>\n",
       "      <th>product_cost</th>\n",
       "      <th>product_price</th>\n",
       "    </tr>\n",
       "  </thead>\n",
       "  <tbody>\n",
       "    <tr>\n",
       "      <th>0</th>\n",
       "      <td>366000</td>\n",
       "      <td>1</td>\n",
       "      <td>1304</td>\n",
       "      <td>1</td>\n",
       "      <td>31.27</td>\n",
       "      <td>68.00</td>\n",
       "    </tr>\n",
       "    <tr>\n",
       "      <th>1</th>\n",
       "      <td>366001</td>\n",
       "      <td>1</td>\n",
       "      <td>1048</td>\n",
       "      <td>2</td>\n",
       "      <td>141.47</td>\n",
       "      <td>427.00</td>\n",
       "    </tr>\n",
       "    <tr>\n",
       "      <th>2</th>\n",
       "      <td>366001</td>\n",
       "      <td>2</td>\n",
       "      <td>2007</td>\n",
       "      <td>1</td>\n",
       "      <td>220.64</td>\n",
       "      <td>665.94</td>\n",
       "    </tr>\n",
       "    <tr>\n",
       "      <th>3</th>\n",
       "      <td>366002</td>\n",
       "      <td>1</td>\n",
       "      <td>1106</td>\n",
       "      <td>7</td>\n",
       "      <td>148.08</td>\n",
       "      <td>322.00</td>\n",
       "    </tr>\n",
       "    <tr>\n",
       "      <th>4</th>\n",
       "      <td>366002</td>\n",
       "      <td>2</td>\n",
       "      <td>373</td>\n",
       "      <td>1</td>\n",
       "      <td>166.20</td>\n",
       "      <td>326.00</td>\n",
       "    </tr>\n",
       "  </tbody>\n",
       "</table>\n",
       "</div>"
      ],
      "text/plain": [
       "   order_id  line_item  product_id  quantity  product_cost  product_price\n",
       "0    366000          1        1304         1         31.27          68.00\n",
       "1    366001          1        1048         2        141.47         427.00\n",
       "2    366001          2        2007         1        220.64         665.94\n",
       "3    366002          1        1106         7        148.08         322.00\n",
       "4    366002          2         373         1        166.20         326.00"
      ]
     },
     "execution_count": 243,
     "metadata": {},
     "output_type": "execute_result"
    }
   ],
   "source": [
    "order_item_df.head()"
   ]
  },
  {
   "cell_type": "code",
   "execution_count": 244,
   "id": "35b3c840-d255-49a8-8d2e-cb4147afcd09",
   "metadata": {},
   "outputs": [],
   "source": [
    "customer_df.set_index(customer_df.columns[0], inplace=True)"
   ]
  },
  {
   "cell_type": "code",
   "execution_count": 245,
   "id": "636be804-6402-4416-8340-8b5b030b1a16",
   "metadata": {},
   "outputs": [],
   "source": [
    "customer_df.to_csv('customer_df.csv')"
   ]
  },
  {
   "cell_type": "code",
   "execution_count": 246,
   "id": "5a909b5a-1a50-4e4b-b4f0-fd80d7f037d3",
   "metadata": {},
   "outputs": [],
   "source": [
    "store_df.set_index(store_df.columns[0], inplace=True)\n",
    "store_df.to_csv('store_df.csv')"
   ]
  },
  {
   "cell_type": "code",
   "execution_count": 247,
   "id": "e362bf0f-25a3-4b22-9bde-ed5bf34c7acf",
   "metadata": {},
   "outputs": [],
   "source": [
    "product_df.set_index(product_df.columns[0], inplace=True)\n",
    "product_df.to_csv('product_df.csv')"
   ]
  },
  {
   "cell_type": "code",
   "execution_count": 248,
   "id": "6868ff2b-c8b7-4918-9696-88df55f1f3a5",
   "metadata": {},
   "outputs": [],
   "source": [
    "product_subcategory_df.set_index(product_subcategory_df.columns[0], inplace=True)\n",
    "product_subcategory_df.to_csv('product_subcategory_df.csv')"
   ]
  },
  {
   "cell_type": "code",
   "execution_count": 249,
   "id": "1a40af54-eb93-4b42-9993-565a993ba32a",
   "metadata": {},
   "outputs": [],
   "source": [
    "product_category_df.set_index(product_category_df.columns[0], inplace=True)\n",
    "product_category_df.to_csv('product_category_df.csv')"
   ]
  },
  {
   "cell_type": "code",
   "execution_count": 250,
   "id": "e988a0d8-1800-43c6-9871-ac23f8eb7590",
   "metadata": {},
   "outputs": [],
   "source": [
    "order_df.set_index(order_df.columns[0], inplace=True)\n",
    "order_df.to_csv('order_df.csv')"
   ]
  },
  {
   "cell_type": "code",
   "execution_count": 251,
   "id": "4de425ed-43b4-465c-a272-f78e5b4a9b1e",
   "metadata": {},
   "outputs": [],
   "source": [
    "order_item_df.set_index(order_item_df.columns[0], inplace=True)\n",
    "order_item_df.to_csv('order_item_df.csv')"
   ]
  },
  {
   "cell_type": "markdown",
   "id": "8a8b9ebf-106b-41aa-908f-eceee6331298",
   "metadata": {},
   "source": [
    "## Reading into SQL"
   ]
  },
  {
   "cell_type": "code",
   "execution_count": 108,
   "id": "dd665bc1-746a-422f-b57f-738ca6d4cebe",
   "metadata": {},
   "outputs": [],
   "source": [
    "from sqlalchemy import create_engine\n",
    "import pyodbc\n",
    "import sqlalchemy as sal"
   ]
  },
  {
   "cell_type": "markdown",
   "id": "b368f747-56a7-4114-b6b4-45907d60ee18",
   "metadata": {},
   "source": [
    "### Find potential primary keys"
   ]
  },
  {
   "cell_type": "code",
   "execution_count": 109,
   "id": "9ccb6d83-0137-4f8b-925c-0df2b2d664e0",
   "metadata": {},
   "outputs": [],
   "source": [
    "def find_potential_primary_key(df):\n",
    "  \"\"\"\n",
    "  Finds potential primary key columns in a DataFrame.\n",
    "\n",
    "  Args:\n",
    "    df: The DataFrame to analyze.\n",
    "\n",
    "  Returns:\n",
    "    A list of column names that could be primary keys.\n",
    "  \"\"\"\n",
    "\n",
    "  potential_primary_keys = []\n",
    "  for column in df.columns:\n",
    "    if df[column].is_unique:\n",
    "      potential_primary_keys.append(column)\n",
    "\n",
    "  # Print the potential primary keys\n",
    "  for column in potential_primary_keys:\n",
    "    print(f\"Column '{column}' could be a primary key.\")"
   ]
  },
  {
   "cell_type": "code",
   "execution_count": 110,
   "id": "6398705d-3d08-430e-9010-3aeba3794cf2",
   "metadata": {},
   "outputs": [],
   "source": [
    "find_potential_primary_key(customer_df)"
   ]
  },
  {
   "cell_type": "code",
   "execution_count": 111,
   "id": "1639a20c-c83d-4aa8-8981-4b634ca44122",
   "metadata": {},
   "outputs": [
    {
     "name": "stdout",
     "output_type": "stream",
     "text": [
      "Column 'state' could be a primary key.\n"
     ]
    }
   ],
   "source": [
    "find_potential_primary_key(store_df)"
   ]
  },
  {
   "cell_type": "code",
   "execution_count": 112,
   "id": "10deff89-6d46-4e9d-b9ce-aa2c219cea69",
   "metadata": {},
   "outputs": [
    {
     "name": "stdout",
     "output_type": "stream",
     "text": [
      "Column 'name' could be a primary key.\n"
     ]
    }
   ],
   "source": [
    "find_potential_primary_key(product_df)"
   ]
  },
  {
   "cell_type": "code",
   "execution_count": 113,
   "id": "4ebe6333-71ea-474a-8536-fe7012601afa",
   "metadata": {},
   "outputs": [
    {
     "name": "stdout",
     "output_type": "stream",
     "text": [
      "Column 'category' could be a primary key.\n"
     ]
    }
   ],
   "source": [
    "find_potential_primary_key(product_subcategory_df)"
   ]
  },
  {
   "cell_type": "code",
   "execution_count": 114,
   "id": "c2b5c853-480c-4b5d-bb39-9b9eedfeec4d",
   "metadata": {},
   "outputs": [
    {
     "name": "stdout",
     "output_type": "stream",
     "text": [
      "Column 'category' could be a primary key.\n"
     ]
    }
   ],
   "source": [
    "find_potential_primary_key(product_category_df)"
   ]
  },
  {
   "cell_type": "code",
   "execution_count": 115,
   "id": "0d5d3dee-c10b-4b32-801d-e548ac41ad34",
   "metadata": {},
   "outputs": [],
   "source": [
    "find_potential_primary_key(order_df)"
   ]
  },
  {
   "cell_type": "code",
   "execution_count": 116,
   "id": "814eb6ff-49a7-437d-b115-0a6bec02c4b8",
   "metadata": {},
   "outputs": [],
   "source": [
    "find_potential_primary_key(order_item_df)"
   ]
  },
  {
   "cell_type": "markdown",
   "id": "6883623b-2b8d-4484-a567-2358136ccf36",
   "metadata": {},
   "source": [
    "__Order Item has three composite primary key: order_id, line_item and product_id__"
   ]
  },
  {
   "cell_type": "markdown",
   "id": "3cd4b361-39b2-40eb-92d2-bec90d2bcd64",
   "metadata": {},
   "source": [
    "### Finding foreign keys"
   ]
  },
  {
   "cell_type": "code",
   "execution_count": 117,
   "id": "e5ab359b-84a9-497b-8b2f-b0c21ed4603a",
   "metadata": {},
   "outputs": [],
   "source": [
    "df_list = [customer_df, store_df, product_df, product_subcategory_df,\n",
    "           product_category_df, order_df, order_item_df]"
   ]
  },
  {
   "cell_type": "code",
   "execution_count": 118,
   "id": "4e452215-a5f0-4d43-8291-63af81d5c2da",
   "metadata": {},
   "outputs": [],
   "source": [
    "def find_foreign_keys(df1, df2):\n",
    "    foreign_keys = []\n",
    "    for col1 in df1.columns:\n",
    "        for col2 in df2.columns:\n",
    "            if df2[col2].isin(df1[col1]).all():\n",
    "                foreign_keys.append((col2, col1))\n",
    "    return foreign_keys"
   ]
  },
  {
   "cell_type": "code",
   "execution_count": 119,
   "id": "b9eb0357-857a-4d3b-9c87-427649419c19",
   "metadata": {},
   "outputs": [],
   "source": [
    "# Foreign keys for customer_df"
   ]
  },
  {
   "cell_type": "code",
   "execution_count": 120,
   "id": "3fe0664a-f8c3-4db7-91df-254722084be8",
   "metadata": {},
   "outputs": [
    {
     "name": "stdout",
     "output_type": "stream",
     "text": [
      "{2276207450720: [], 2276209177952: [], 2276226530432: [], 2276199232576: [], 2276235311104: [], 2276230857216: []}\n"
     ]
    }
   ],
   "source": [
    "dataframes = [store_df, product_df, product_subcategory_df,\n",
    "           product_category_df, order_df, order_item_df]\n",
    "cust_foreign_keys_dict = {}  \n",
    "  \n",
    "for df in dataframes:  \n",
    "    foreign_keys = find_foreign_keys(customer_df, df)  \n",
    "    cust_foreign_keys_dict[id(df)] = foreign_keys  \n",
    "  \n",
    "print(cust_foreign_keys_dict)"
   ]
  },
  {
   "cell_type": "markdown",
   "id": "d63fb6d1-b433-4a08-8afe-ea981034e5db",
   "metadata": {},
   "source": [
    "__customer_id in order_df is a foreign key of id on customer_df.__"
   ]
  },
  {
   "cell_type": "code",
   "execution_count": 121,
   "id": "ec4fd5b5-bacb-43c0-b7e9-04197585d375",
   "metadata": {},
   "outputs": [],
   "source": [
    "# Foreign keys for store_df"
   ]
  },
  {
   "cell_type": "code",
   "execution_count": 122,
   "id": "8cfd4005-7276-403a-9c80-38b39dbcf4f8",
   "metadata": {},
   "outputs": [
    {
     "name": "stdout",
     "output_type": "stream",
     "text": [
      "{2276199300080: [('country', 'country')], 2276209177952: [], 2276226530432: [], 2276199232576: [], 2276235311104: [], 2276230857216: []}\n"
     ]
    }
   ],
   "source": [
    "dataframes = [customer_df, product_df, product_subcategory_df,\n",
    "           product_category_df, order_df, order_item_df]\n",
    "store_foreign_keys_dict = {}  \n",
    "  \n",
    "for df in dataframes:  \n",
    "    foreign_keys = find_foreign_keys(store_df, df)  \n",
    "    store_foreign_keys_dict[id(df)] = foreign_keys  \n",
    "  \n",
    "print(store_foreign_keys_dict)"
   ]
  },
  {
   "cell_type": "markdown",
   "id": "94ca7414-99e2-43d5-9ffc-a043b4f0b221",
   "metadata": {},
   "source": [
    "__Store_id on order_df is a foreign key for id on store_df.__"
   ]
  },
  {
   "cell_type": "code",
   "execution_count": 123,
   "id": "d53b030d-c0a7-4e93-803d-e105ce2ae6a7",
   "metadata": {},
   "outputs": [],
   "source": [
    "# Foreign keys for product_df"
   ]
  },
  {
   "cell_type": "code",
   "execution_count": 124,
   "id": "b202e59f-1f67-4c11-80d7-d4aeacc73a2b",
   "metadata": {},
   "outputs": [
    {
     "name": "stdout",
     "output_type": "stream",
     "text": [
      "{2276199300080: [], 2276207450720: [], 2276226530432: [], 2276199232576: [], 2276235311104: [], 2276230857216: [('product_cost', 'cost'), ('product_price', 'price')]}\n"
     ]
    }
   ],
   "source": [
    "dataframes = [customer_df, store_df, product_subcategory_df,\n",
    "           product_category_df, order_df, order_item_df]\n",
    "prod_foreign_keys_dict = {}  \n",
    "  \n",
    "for df in dataframes:  \n",
    "    foreign_keys = find_foreign_keys(product_df, df)  \n",
    "    prod_foreign_keys_dict[id(df)] = foreign_keys  \n",
    "  \n",
    "print(prod_foreign_keys_dict)"
   ]
  },
  {
   "cell_type": "markdown",
   "id": "864ce7a5-5180-4dbb-9d62-ad4a441beb30",
   "metadata": {},
   "source": [
    "__product_id on order_item_df is a foreign key for id on produt_df.__"
   ]
  },
  {
   "cell_type": "code",
   "execution_count": 125,
   "id": "8ee26ab8-ff5b-4600-aa2c-2a43267b8265",
   "metadata": {},
   "outputs": [],
   "source": [
    "# Foreign keys for product_subcategory_df"
   ]
  },
  {
   "cell_type": "code",
   "execution_count": 126,
   "id": "ac7df66e-b18b-4ed1-8892-85174b34b449",
   "metadata": {},
   "outputs": [
    {
     "name": "stdout",
     "output_type": "stream",
     "text": [
      "{2276199300080: [], 2276207450720: [], 2276209177952: [], 2276199232576: [], 2276235311104: [], 2276230857216: [('line_item', 'category_id')]}\n"
     ]
    }
   ],
   "source": [
    "dataframes = [customer_df, store_df, product_df,\n",
    "           product_category_df, order_df, order_item_df]\n",
    "prod_subcat_foreign_keys_dict = {}  \n",
    "  \n",
    "for df in dataframes:  \n",
    "    foreign_keys = find_foreign_keys(product_subcategory_df, df)  \n",
    "    prod_subcat_foreign_keys_dict[id(df)] = foreign_keys  \n",
    "  \n",
    "print(prod_subcat_foreign_keys_dict)"
   ]
  },
  {
   "cell_type": "markdown",
   "id": "776c4282-bb00-47f1-888e-0361c0f062b6",
   "metadata": {},
   "source": [
    "__category_id on product_subcategory_df is a foreign key of id on product_category_df__"
   ]
  },
  {
   "cell_type": "code",
   "execution_count": 127,
   "id": "b4277f67-0e8e-41ca-8df0-be87ab1dfd8f",
   "metadata": {},
   "outputs": [],
   "source": [
    "# Foreign keys for order_df"
   ]
  },
  {
   "cell_type": "code",
   "execution_count": 128,
   "id": "df930777-4df7-46a5-bf85-6294b04ec931",
   "metadata": {},
   "outputs": [
    {
     "name": "stdout",
     "output_type": "stream",
     "text": [
      "{2276199300080: [], 2276207450720: [], 2276226530432: [], 2276199232576: [], 2276235311104: [], 2276230857216: [('product_cost', 'cost'), ('product_price', 'price')]}\n"
     ]
    }
   ],
   "source": [
    "dataframes = [customer_df, store_df, product_df, product_subcategory_df,\n",
    "           product_category_df, order_item_df]\n",
    "order_foreign_keys_dict = {}  \n",
    "  \n",
    "for df in dataframes:  \n",
    "    foreign_keys = find_foreign_keys(order_df, df)  \n",
    "    order_foreign_keys_dict[id(df)] = foreign_keys  \n",
    "  \n",
    "print(prod_foreign_keys_dict)"
   ]
  },
  {
   "cell_type": "markdown",
   "id": "4fc71a09-323c-4d04-b749-21704977328d",
   "metadata": {},
   "source": [
    "__order_id on order_item_df is a foreign key for order_df.__"
   ]
  },
  {
   "cell_type": "markdown",
   "id": "cd0b5254-dd46-4928-884c-1efee98667dc",
   "metadata": {},
   "source": [
    "### Create a test database"
   ]
  },
  {
   "cell_type": "code",
   "execution_count": 130,
   "id": "0290d583-966a-4f61-b093-c3879aef4c09",
   "metadata": {},
   "outputs": [
    {
     "ename": "ProgrammingError",
     "evalue": "('42000', \"[42000] [Microsoft][ODBC SQL Server Driver][SQL Server]Database 'test_OneStopdB' already exists. Choose a different database name. (1801) (SQLExecDirectW)\")",
     "output_type": "error",
     "traceback": [
      "\u001b[1;31m---------------------------------------------------------------------------\u001b[0m",
      "\u001b[1;31mProgrammingError\u001b[0m                          Traceback (most recent call last)",
      "Cell \u001b[1;32mIn[130], line 15\u001b[0m\n\u001b[0;32m     13\u001b[0m \u001b[38;5;66;03m# Create the database  \u001b[39;00m\n\u001b[0;32m     14\u001b[0m database_name \u001b[38;5;241m=\u001b[39m \u001b[38;5;124m'\u001b[39m\u001b[38;5;124mtest_OneStopdB\u001b[39m\u001b[38;5;124m'\u001b[39m\n\u001b[1;32m---> 15\u001b[0m cursor\u001b[38;5;241m.\u001b[39mexecute(\u001b[38;5;124m\"\u001b[39m\u001b[38;5;124mCREATE DATABASE \u001b[39m\u001b[38;5;124m\"\u001b[39m \u001b[38;5;241m+\u001b[39m database_name)  \n\u001b[0;32m     17\u001b[0m \u001b[38;5;66;03m# Commit the transaction  \u001b[39;00m\n\u001b[0;32m     18\u001b[0m conn\u001b[38;5;241m.\u001b[39mcommit()  \n",
      "\u001b[1;31mProgrammingError\u001b[0m: ('42000', \"[42000] [Microsoft][ODBC SQL Server Driver][SQL Server]Database 'test_OneStopdB' already exists. Choose a different database name. (1801) (SQLExecDirectW)\")"
     ]
    }
   ],
   "source": [
    "import pyodbc  \n",
    "  \n",
    "conn = pyodbc.connect(\n",
    "    \"Driver={SQL Server};\"\n",
    "    \"Server=OLUWATOBI;\"\n",
    "    \"Trusted_Connection=yes;\"\n",
    "    \"DATABASE=master\"\n",
    ")\n",
    "\n",
    "# Create a cursor object  \n",
    "cursor = conn.cursor()  \n",
    "  \n",
    "# Create the database  \n",
    "database_name = 'test_OneStopdB'\n",
    "cursor.execute(\"CREATE DATABASE \" + database_name)  \n",
    "  \n",
    "# Commit the transaction  \n",
    "conn.commit()  \n",
    "  \n",
    "# Close the cursor and connection  \n",
    "cursor.close()  \n",
    "conn.close()"
   ]
  },
  {
   "cell_type": "markdown",
   "id": "9e8ce7f6-4820-4766-81c1-f6932d453106",
   "metadata": {},
   "source": [
    "### Write dfs into Database"
   ]
  },
  {
   "cell_type": "code",
   "execution_count": 132,
   "id": "47edb390-a010-4dc1-8655-e10c745078b3",
   "metadata": {},
   "outputs": [],
   "source": [
    "#server = 'OLUWATOBI'   Use your db server name\n",
    "database = 'test_OneStopdB'\n",
    "driver = 'ODBC Driver 17 for SQL Server'\n",
    "\n",
    "connection_string = f'mssql+pyodbc://@{server}/{database}?trusted_connection=yes&driver={driver.replace(\" \", \"+\")}'\n",
    "engine = create_engine(connection_string)"
   ]
  },
  {
   "cell_type": "code",
   "execution_count": 133,
   "id": "fc3d4db9-6aa3-4792-842b-fc3b4b6c4872",
   "metadata": {},
   "outputs": [
    {
     "data": {
      "text/plain": [
       "97"
      ]
     },
     "execution_count": 133,
     "metadata": {},
     "output_type": "execute_result"
    }
   ],
   "source": [
    "# Write the DataFrame to a SQL table\n",
    "customer_df.to_sql('customer', engine, if_exists='replace', index=False)"
   ]
  },
  {
   "cell_type": "code",
   "execution_count": 134,
   "id": "2615ef5a-1888-4971-89fa-3b0af1c9e0b2",
   "metadata": {},
   "outputs": [
    {
     "data": {
      "text/html": [
       "<div>\n",
       "<style scoped>\n",
       "    .dataframe tbody tr th:only-of-type {\n",
       "        vertical-align: middle;\n",
       "    }\n",
       "\n",
       "    .dataframe tbody tr th {\n",
       "        vertical-align: top;\n",
       "    }\n",
       "\n",
       "    .dataframe thead th {\n",
       "        text-align: right;\n",
       "    }\n",
       "</style>\n",
       "<table border=\"1\" class=\"dataframe\">\n",
       "  <thead>\n",
       "    <tr style=\"text-align: right;\">\n",
       "      <th></th>\n",
       "      <th>gender</th>\n",
       "      <th>name</th>\n",
       "      <th>city</th>\n",
       "      <th>state</th>\n",
       "      <th>zip</th>\n",
       "      <th>country</th>\n",
       "      <th>continent</th>\n",
       "      <th>dob</th>\n",
       "    </tr>\n",
       "  </thead>\n",
       "  <tbody>\n",
       "    <tr>\n",
       "      <th>0</th>\n",
       "      <td>Male</td>\n",
       "      <td>Tyler Vaught</td>\n",
       "      <td>London</td>\n",
       "      <td>Ontario</td>\n",
       "      <td>N5W 5K6</td>\n",
       "      <td>Canada</td>\n",
       "      <td>North America</td>\n",
       "      <td>1971-03-23</td>\n",
       "    </tr>\n",
       "    <tr>\n",
       "      <th>1</th>\n",
       "      <td>Male</td>\n",
       "      <td>Frank Upchurch</td>\n",
       "      <td>Auberry</td>\n",
       "      <td>California</td>\n",
       "      <td>93602</td>\n",
       "      <td>United States</td>\n",
       "      <td>North America</td>\n",
       "      <td>1995-11-20</td>\n",
       "    </tr>\n",
       "    <tr>\n",
       "      <th>2</th>\n",
       "      <td>Female</td>\n",
       "      <td>Joan Roche</td>\n",
       "      <td>Red Deer</td>\n",
       "      <td>Alberta</td>\n",
       "      <td>T4N 2A6</td>\n",
       "      <td>Canada</td>\n",
       "      <td>North America</td>\n",
       "      <td>1962-08-24</td>\n",
       "    </tr>\n",
       "    <tr>\n",
       "      <th>3</th>\n",
       "      <td>Male</td>\n",
       "      <td>Sam Nelson</td>\n",
       "      <td>Burscough Bridge</td>\n",
       "      <td>West Lancashire</td>\n",
       "      <td>L40 8UX</td>\n",
       "      <td>United Kingdom</td>\n",
       "      <td>Europe</td>\n",
       "      <td>1979-11-28</td>\n",
       "    </tr>\n",
       "    <tr>\n",
       "      <th>4</th>\n",
       "      <td>Male</td>\n",
       "      <td>Ouassim Heuver</td>\n",
       "      <td>Leeuwarden</td>\n",
       "      <td>Friesland</td>\n",
       "      <td>8916 CD</td>\n",
       "      <td>Netherlands</td>\n",
       "      <td>Europe</td>\n",
       "      <td>1995-06-22</td>\n",
       "    </tr>\n",
       "    <tr>\n",
       "      <th>5</th>\n",
       "      <td>Female</td>\n",
       "      <td>Damiana Corona</td>\n",
       "      <td>Winchester</td>\n",
       "      <td>Virginia</td>\n",
       "      <td>22601</td>\n",
       "      <td>United States</td>\n",
       "      <td>North America</td>\n",
       "      <td>1944-10-30</td>\n",
       "    </tr>\n",
       "    <tr>\n",
       "      <th>6</th>\n",
       "      <td>Male</td>\n",
       "      <td>Callisto Lo Duca</td>\n",
       "      <td>Casilli</td>\n",
       "      <td>Napoli</td>\n",
       "      <td>80047</td>\n",
       "      <td>Italy</td>\n",
       "      <td>Europe</td>\n",
       "      <td>1976-08-28</td>\n",
       "    </tr>\n",
       "    <tr>\n",
       "      <th>7</th>\n",
       "      <td>Female</td>\n",
       "      <td>Hazel Skiles</td>\n",
       "      <td>Peterborough</td>\n",
       "      <td>Ontario</td>\n",
       "      <td>K9H 2L1</td>\n",
       "      <td>Canada</td>\n",
       "      <td>North America</td>\n",
       "      <td>1988-06-10</td>\n",
       "    </tr>\n",
       "    <tr>\n",
       "      <th>8</th>\n",
       "      <td>Female</td>\n",
       "      <td>Carlota Etzel</td>\n",
       "      <td>Sainte-Gertrude</td>\n",
       "      <td>Quebec</td>\n",
       "      <td>G0X 2S0</td>\n",
       "      <td>Canada</td>\n",
       "      <td>North America</td>\n",
       "      <td>1971-02-02</td>\n",
       "    </tr>\n",
       "    <tr>\n",
       "      <th>9</th>\n",
       "      <td>Male</td>\n",
       "      <td>Mike Mogensen</td>\n",
       "      <td>Chicago</td>\n",
       "      <td>Illinois</td>\n",
       "      <td>60605</td>\n",
       "      <td>United States</td>\n",
       "      <td>North America</td>\n",
       "      <td>1937-06-10</td>\n",
       "    </tr>\n",
       "  </tbody>\n",
       "</table>\n",
       "</div>"
      ],
      "text/plain": [
       "   gender              name              city            state      zip  \\\n",
       "0    Male      Tyler Vaught            London          Ontario  N5W 5K6   \n",
       "1    Male    Frank Upchurch           Auberry       California    93602   \n",
       "2  Female        Joan Roche          Red Deer          Alberta  T4N 2A6   \n",
       "3    Male        Sam Nelson  Burscough Bridge  West Lancashire  L40 8UX   \n",
       "4    Male    Ouassim Heuver        Leeuwarden        Friesland  8916 CD   \n",
       "5  Female    Damiana Corona        Winchester         Virginia    22601   \n",
       "6    Male  Callisto Lo Duca           Casilli           Napoli    80047   \n",
       "7  Female      Hazel Skiles      Peterborough          Ontario  K9H 2L1   \n",
       "8  Female     Carlota Etzel   Sainte-Gertrude           Quebec  G0X 2S0   \n",
       "9    Male     Mike Mogensen           Chicago         Illinois    60605   \n",
       "\n",
       "          country      continent        dob  \n",
       "0          Canada  North America 1971-03-23  \n",
       "1   United States  North America 1995-11-20  \n",
       "2          Canada  North America 1962-08-24  \n",
       "3  United Kingdom         Europe 1979-11-28  \n",
       "4     Netherlands         Europe 1995-06-22  \n",
       "5   United States  North America 1944-10-30  \n",
       "6           Italy         Europe 1976-08-28  \n",
       "7          Canada  North America 1988-06-10  \n",
       "8          Canada  North America 1971-02-02  \n",
       "9   United States  North America 1937-06-10  "
      ]
     },
     "execution_count": 134,
     "metadata": {},
     "output_type": "execute_result"
    }
   ],
   "source": [
    "# Query the table to verify the data\n",
    "query = \"SELECT top 10 * FROM customer\"\n",
    "df_from_sql = pd.read_sql(query, engine)\n",
    "\n",
    "# Print the DataFrame retrieved from SQL Server\n",
    "df_from_sql"
   ]
  },
  {
   "cell_type": "code",
   "execution_count": 135,
   "id": "d4df1b15-3498-44fb-b895-5e7a13a3ceab",
   "metadata": {},
   "outputs": [
    {
     "data": {
      "text/plain": [
       "58"
      ]
     },
     "execution_count": 135,
     "metadata": {},
     "output_type": "execute_result"
    }
   ],
   "source": [
    "# Write the DataFrame to a SQL table\n",
    "store_df.to_sql('store', engine, if_exists='replace', index=False)"
   ]
  },
  {
   "cell_type": "code",
   "execution_count": 136,
   "id": "133d5024-8a8b-43d3-bf93-ad28c9382798",
   "metadata": {},
   "outputs": [
    {
     "data": {
      "text/plain": [
       "49"
      ]
     },
     "execution_count": 136,
     "metadata": {},
     "output_type": "execute_result"
    }
   ],
   "source": [
    "# Write the DataFrame to a SQL table\n",
    "product_df.to_sql('product', engine, if_exists='replace', index=False)"
   ]
  },
  {
   "cell_type": "code",
   "execution_count": 137,
   "id": "e33e8385-8a73-43e5-84f1-f975e82cf857",
   "metadata": {},
   "outputs": [
    {
     "data": {
      "text/plain": [
       "32"
      ]
     },
     "execution_count": 137,
     "metadata": {},
     "output_type": "execute_result"
    }
   ],
   "source": [
    "# Write the DataFrame to a SQL table\n",
    "product_subcategory_df.to_sql('product_subcategory', engine, if_exists='replace', index=False)"
   ]
  },
  {
   "cell_type": "code",
   "execution_count": 138,
   "id": "eec27dfc-46ef-4f5c-9388-36f497745cc3",
   "metadata": {},
   "outputs": [
    {
     "data": {
      "text/plain": [
       "8"
      ]
     },
     "execution_count": 138,
     "metadata": {},
     "output_type": "execute_result"
    }
   ],
   "source": [
    "# Write the DataFrame to a SQL table\n",
    "product_category_df.to_sql('product_category', engine, if_exists='replace', index=False)"
   ]
  },
  {
   "cell_type": "code",
   "execution_count": 139,
   "id": "efe7ff7c-81ab-4306-93dd-54cbf46044ed",
   "metadata": {},
   "outputs": [
    {
     "data": {
      "text/plain": [
       "126"
      ]
     },
     "execution_count": 139,
     "metadata": {},
     "output_type": "execute_result"
    }
   ],
   "source": [
    "# Write the DataFrame to a SQL table\n",
    "order_df.to_sql('order', engine, if_exists='replace', index=False)"
   ]
  },
  {
   "cell_type": "code",
   "execution_count": 140,
   "id": "03648cba-28e9-49a1-9dad-5778278eaf60",
   "metadata": {},
   "outputs": [
    {
     "data": {
      "text/plain": [
       "34"
      ]
     },
     "execution_count": 140,
     "metadata": {},
     "output_type": "execute_result"
    }
   ],
   "source": [
    "# Write the DataFrame to a SQL table\n",
    "order_item_df.to_sql('order_item', engine, if_exists='replace', index=False)"
   ]
  },
  {
   "cell_type": "markdown",
   "id": "acef4151-95ce-45be-a0e9-c3a96c3e5acd",
   "metadata": {},
   "source": [
    "### Create the database"
   ]
  },
  {
   "cell_type": "code",
   "execution_count": 179,
   "id": "295b91d2-f939-4022-a4e9-ac54424f237b",
   "metadata": {},
   "outputs": [],
   "source": [
    "import pyodbc  \n",
    "  \n",
    "conn = pyodbc.connect(\n",
    "    \"Driver={SQL Server};\"\n",
    "    #\"Server=OLUWATOBI;\" Use your server name\n",
    "    \"Trusted_Connection=yes;\"\n",
    "    \"DATABASE=master\"\n",
    ")\n",
    "\n",
    "# Create a cursor object  \n",
    "cursor = conn.cursor()  \n",
    "  \n",
    "# Create the database  \n",
    "database_name = 'OneStopdB'\n",
    "cursor.execute(\"CREATE DATABASE \" + database_name)  \n",
    "  \n",
    "# Commit the transaction  \n",
    "conn.commit()  \n",
    "  \n",
    "# Close the cursor and connection  \n",
    "cursor.close()  \n",
    "conn.close()"
   ]
  },
  {
   "cell_type": "code",
   "execution_count": 180,
   "id": "0bfe63f8-4109-4c2f-a21c-36a40e75e53f",
   "metadata": {},
   "outputs": [],
   "source": [
    "# Close the SQL engine\n",
    "engine.dispose()"
   ]
  },
  {
   "cell_type": "markdown",
   "id": "2d4f75c5-4c7b-41cf-a862-18db9145b504",
   "metadata": {},
   "source": [
    "### Create Tables"
   ]
  },
  {
   "cell_type": "code",
   "execution_count": 141,
   "id": "81b82f11-5951-4a2e-9b27-f364d56225ae",
   "metadata": {},
   "outputs": [],
   "source": [
    "#server = 'OLUWATOBI'   Use your db server name\n",
    "database = 'OneStopdB'\n",
    "driver = 'ODBC Driver 17 for SQL Server'\n",
    "\n",
    "connection_string = f'mssql+pyodbc://@{server}/{database}?trusted_connection=yes&driver={driver.replace(\" \", \"+\")}'\n",
    "engine = create_engine(connection_string)"
   ]
  },
  {
   "cell_type": "code",
   "execution_count": 142,
   "id": "a5be6a51-d5b4-43f2-b50d-a957ddb037e9",
   "metadata": {},
   "outputs": [],
   "source": [
    "from sqlalchemy import create_engine, Column, Integer, String, DateTime, BigInteger \n",
    "from sqlalchemy.orm import declarative_base, sessionmaker  \n",
    "\n",
    "Base = declarative_base()  \n",
    "  \n",
    "class Customer(Base):  \n",
    "    __tablename__ = 'customer'  \n",
    "    id = Column(BigInteger, primary_key=True)  \n",
    "    gender = Column(String(50))  \n",
    "    name = Column(String(250))  \n",
    "    city = Column(String(250))  \n",
    "    state = Column(String(250))  \n",
    "    zip = Column(String(10))  \n",
    "    country = Column(String(250))  \n",
    "    continent = Column(String(250))  \n",
    "    dob = Column(DateTime)  \n",
    "  \n",
    "Base.metadata.create_all(engine)"
   ]
  },
  {
   "cell_type": "code",
   "execution_count": 143,
   "id": "cebf5355-2068-4e62-a92a-cdd584e20463",
   "metadata": {},
   "outputs": [],
   "source": [
    "from sqlalchemy import create_engine, Column, Integer, String, DateTime, Float, ForeignKey, BigInteger\n",
    "from sqlalchemy.orm import declarative_base, sessionmaker, relationship\n",
    "\n",
    "class Order(Base):  \n",
    "        __tablename__ = 'order'  \n",
    "        id = Column(BigInteger, primary_key=True)  \n",
    "        customer_id = Column(BigInteger, ForeignKey('customer.id'))  \n",
    "        store_id = Column(BigInteger, ForeignKey('store.id'))  \n",
    "        order_date = Column(DateTime)  \n",
    "        delivery_date = Column(DateTime)  \n",
    "  \n",
    "        customer = relationship(\"Customer\", backref=\"orders\")\n",
    "        store = relationship(\"Store\", backref=\"orders\")\n",
    "  \n",
    "class OrderItem(Base):  \n",
    "        __tablename__ = 'order_item'  \n",
    "        order_id = Column(BigInteger, primary_key=True)  \n",
    "        line_item = Column(BigInteger)  \n",
    "        product_id = Column(BigInteger, ForeignKey('product.id'))  \n",
    "        quantity = Column(BigInteger)  \n",
    "        product_cost = Column(Float)  \n",
    "        product_price = Column(Float)  \n",
    "  \n",
    "        product = relationship(\"Product\", backref=\"order_items\")  \n",
    "  \n",
    "class Product(Base):  \n",
    "        __tablename__ = 'product'  \n",
    "        id = Column(BigInteger, primary_key=True)  \n",
    "        name = Column(String(250))  \n",
    "        brand = Column(String(250))  \n",
    "        color = Column(String(250))  \n",
    "        cost = Column(Float)  \n",
    "        price = Column(Float)  \n",
    "        subcategory_id = Column(BigInteger, ForeignKey('product_subcategory.id'))  \n",
    "  \n",
    "        subcategory = relationship(\"ProductSubcategory\", backref=\"products\")  \n",
    "  \n",
    "class ProductCategory(Base):  \n",
    "        __tablename__ = 'product_category'  \n",
    "        id = Column(Integer, primary_key=True)  \n",
    "        category = Column(String(250))  \n",
    "  \n",
    "class Store(Base):  \n",
    "        __tablename__ = 'store'  \n",
    "        id = Column(BigInteger, primary_key=True)  \n",
    "        country = Column(String(250))  \n",
    "        state = Column(String(250))  \n",
    "        sq_meters = Column(Integer)  \n",
    "        open_date = Column(DateTime)  \n",
    "  \n",
    "class ProductSubcategory(Base):  \n",
    "        __tablename__ = 'product_subcategory'  \n",
    "        id = Column(BigInteger, primary_key=True)  \n",
    "        category = Column(String(250))  \n",
    "        category_id = Column(Integer, ForeignKey('product_category.id'))  \n",
    "  \n",
    "        category = relationship(\"ProductCategory\", backref=\"subcategories\")  \n",
    "  \n",
    "Base.metadata.create_all(engine)"
   ]
  },
  {
   "cell_type": "code",
   "execution_count": 158,
   "id": "e5ed5c03-e9f7-4593-98d8-a08abc24f45c",
   "metadata": {},
   "outputs": [],
   "source": [
    "# Close the SQL engine\n",
    "engine.dispose()"
   ]
  },
  {
   "cell_type": "markdown",
   "id": "688ed94e-5031-482a-ba58-2902cac8a3c5",
   "metadata": {},
   "source": [
    "__Moving over to SQL Server__\n",
    "\n",
    "<div style=\"text-align: center;\">\n",
    "    <img src = \"https://media1.giphy.com/media/v1.Y2lkPTc5MGI3NjExZjMyYXJ5dG1ocDlpejA2NWdiamFvYmNlbTV1OXF5eHMyNGM3YjEzZCZlcD12MV9pbnRlcm5hbF9naWZfYnlfaWQmY3Q9Zw/Y08EyNI2cZu5mo0C1k/giphy.webp\" alt=\"Cookie\" style=\"width: 600px; height: 400px;\" />\n",
    "</div>"
   ]
  }
 ],
 "metadata": {
  "kernelspec": {
   "display_name": "Python 3 (ipykernel)",
   "language": "python",
   "name": "python3"
  },
  "language_info": {
   "codemirror_mode": {
    "name": "ipython",
    "version": 3
   },
   "file_extension": ".py",
   "mimetype": "text/x-python",
   "name": "python",
   "nbconvert_exporter": "python",
   "pygments_lexer": "ipython3",
   "version": "3.12.3"
  }
 },
 "nbformat": 4,
 "nbformat_minor": 5
}
